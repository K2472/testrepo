{
  "metadata": {
    "kernelspec": {
      "name": "python",
      "display_name": "Python (Pyodide)",
      "language": "python"
    },
    "language_info": {
      "codemirror_mode": {
        "name": "python",
        "version": 3
      },
      "file_extension": ".py",
      "mimetype": "text/x-python",
      "name": "python",
      "nbconvert_exporter": "python",
      "pygments_lexer": "ipython3",
      "version": "3.8"
    }
  },
  "nbformat_minor": 4,
  "nbformat": 4,
  "cells": [
    {
      "cell_type": "code",
      "source": "# lab300.ipynb\n#\n\n# Import the pandas module.\nimport pandas as pd\n",
      "metadata": {
        "trusted": true
      },
      "outputs": [
        {
          "name": "stderr",
          "text": "<ipython-input-1-b43a403b628d>:5: DeprecationWarning: \nPyarrow will become a required dependency of pandas in the next major release of pandas (pandas 3.0),\n(to allow more performant data types, such as the Arrow string type, and better interoperability with other libraries)\nbut was not found to be installed on your system.\nIf this would cause problems for you,\nplease provide us feedback at https://github.com/pandas-dev/pandas/issues/54466\n        \n  import pandas as pd\n",
          "output_type": "stream"
        }
      ],
      "execution_count": 1
    },
    {
      "cell_type": "code",
      "source": "# Load the dataset into a dataframe.",
      "metadata": {
        "trusted": true
      },
      "outputs": [],
      "execution_count": 2
    },
    {
      "cell_type": "code",
      "source": "# !pip install seaborn\n# should be change to %pip install seaborn, in Juptter \n\n%pip install seaborn",
      "metadata": {
        "trusted": true
      },
      "outputs": [],
      "execution_count": 3
    },
    {
      "cell_type": "code",
      "source": "# pip install seaborn\n# should be change to %pip install seaborn\n\n%pip install seaborn\nimport seaborn as sns",
      "metadata": {
        "trusted": true
      },
      "outputs": [],
      "execution_count": null
    },
    {
      "cell_type": "code",
      "source": "import matplotlib.pyplot as plt\nimport numpy as np\n\n# Example data\nx = np.arange(0, 10, 0.1)\ny = np.sin(x)\n\n# Plot\nplt.plot(x, y)\nplt.title('Sine Wave')\nplt.xlabel('x')\nplt.ylabel('sin(x)')\nplt.show()",
      "metadata": {
        "trusted": true
      },
      "outputs": [],
      "execution_count": null
    },
    {
      "cell_type": "code",
      "source": "# Read Data\n# We utilize the pandas.read_csv() function for reading CSV files. \n# However, in this version of the lab, which operates on JupyterLite, \n# the dataset needs to be downloaded to the interface using the provided code below.\n#\n\n# 讀取數據 我們利用 pandas.read_csv() 函數來讀取 CSV 檔案。\n# 但是，在這個運行於 JupyterLite 上的實驗室版本中，需要使用下面提供的程式碼將資料集下載到介面。",
      "metadata": {
        "trusted": true
      },
      "outputs": [],
      "execution_count": null
    },
    {
      "cell_type": "code",
      "source": "# 讀取數據 我們利用 pandas.read_csv() 函數來讀取 CSV 檔案。\n# 但是，在這個運行於 JupyterLite 上的實驗室版本中，需要使用下面提供的程式碼將資料集下載到介面。\n#\n# Read data\nfrom pyodide.http import pyfetch\n\nasync def download(url, filename):\n    response = await pyfetch(url)\n    if response.status == 200:\n        with open(filename, \"wb\") as f:\n            f.write(await response.bytes())",
      "metadata": {
        "trusted": true
      },
      "outputs": [],
      "execution_count": null
    },
    {
      "cell_type": "code",
      "source": "file_path = \"https://cf-courses-data.s3.us.cloud-object-storage.appdomain.cloud/IBM-DA0321EN-SkillsNetwork/LargeData/m2_survey_data.csv\"",
      "metadata": {
        "trusted": true
      },
      "outputs": [],
      "execution_count": null
    },
    {
      "cell_type": "code",
      "source": "# To obtain the dataset, utilize the download() function as defined above:\n\n# await download(file_path, \"m2_survey_data.csv\")\nfile_name=\"m2_survey_data.csv\"",
      "metadata": {
        "trusted": true
      },
      "outputs": [],
      "execution_count": null
    },
    {
      "cell_type": "code",
      "source": "# Utilize the Pandas method read_csv() to load the data into a dataframe.\ndf = pd.read_csv(file_name)",
      "metadata": {
        "trusted": true
      },
      "outputs": [],
      "execution_count": null
    },
    {
      "cell_type": "code",
      "source": "df.head()",
      "metadata": {
        "trusted": true
      },
      "outputs": [],
      "execution_count": null
    },
    {
      "cell_type": "code",
      "source": "df.info()",
      "metadata": {
        "trusted": true
      },
      "outputs": [],
      "execution_count": null
    },
    {
      "cell_type": "code",
      "source": "# Distribution\n# Determine how the data is distributed\n# 分配 確定數據如何分佈\n#\n# The column ConvertedComp contains Salary converted to annual USD salaries using the exchange rate on 2019-02-01.\n#\n# This assumes 12 working months and 50 working weeks.\n#\n# ConvertedComp 欄位包含使用 2019 年 2 月 1 日匯率轉換為美元年薪的薪資。 這假設 12 個工作月和 50 個工作週。\n#\n# Plot the distribution curve for the column ConvertedComp.\n# 繪製 ConvertedComp 欄位的分佈曲線。",
      "metadata": {
        "trusted": true
      },
      "outputs": [],
      "execution_count": null
    },
    {
      "cell_type": "code",
      "source": "df['ConvertedComp'].head()",
      "metadata": {
        "trusted": true
      },
      "outputs": [],
      "execution_count": null
    },
    {
      "cell_type": "code",
      "source": "# %pip install seaborn",
      "metadata": {
        "trusted": true
      },
      "outputs": [],
      "execution_count": null
    },
    {
      "cell_type": "code",
      "source": "import seaborn as sns\n\n# Draw the density plot\nsns.distplot(df['ConvertedComp'], hist = False, kde = True,\n             kde_kws = {'linewidth': 3})\n\n# Plot formatting\nplt.title('Density Curve of Converted Compensation')\nplt.xlabel('Annual USD Salaries')\nplt.ylabel('Number of Respondents')",
      "metadata": {
        "trusted": true,
        "tags": [],
        "editable": true,
        "slideshow": {
          "slide_type": ""
        }
      },
      "outputs": [],
      "execution_count": null
    },
    {
      "cell_type": "code",
      "source": "# case 2\nimport pandas as pd",
      "metadata": {
        "trusted": true
      },
      "outputs": [],
      "execution_count": null
    },
    {
      "cell_type": "code",
      "source": "# df = pd.read_csv(\"https://cf-courses-data.s3.us.cloud-object-storage.appdomain.cloud/IBM-DA0321EN-SkillsNetwork/LargeData/m2_survey_data.csv\")",
      "metadata": {
        "trusted": true
      },
      "outputs": [],
      "execution_count": null
    },
    {
      "cell_type": "code",
      "source": "# Distribution\n# Determine how the data is distributed\n# The column ConvertedComp contains Salary converted to annual USD salaries using the exchange rate on 2019-02-01.\n#\n# This assumes 12 working months and 50 working weeks.\n#\n# Plot the distribution curve for the column ConvertedComp.\n\n\n# 分配 確定數據如何分佈\n# ConvertedComp 欄位包含使用 2019 年 2 月 1 日匯率轉換為美元年薪的薪資。 \n# 這假設 12 個工作月和 50 個工作週。 繪製 ConvertedComp 欄位的分佈曲線。\n#",
      "metadata": {
        "trusted": true
      },
      "outputs": [],
      "execution_count": null
    },
    {
      "cell_type": "code",
      "source": "# your code goes here\n\nimport seaborn as sns\nax = sns.distplot(df['ConvertedComp'], hist=False)",
      "metadata": {
        "trusted": true
      },
      "outputs": [],
      "execution_count": null
    },
    {
      "cell_type": "code",
      "source": "# 分配 確定數據如何分佈\n# ConvertedComp 欄位包含使用 2019 年 2 月 1 日匯率轉換為美元年薪的薪資。 \n# 這假設 12 個工作月和 50 個工作週。 繪製 ConvertedComp 欄位的分佈曲線。\n#\n\nimport seaborn as sns\n\n# Draw the density plot\nsns.distplot(df['ConvertedComp'], hist = False, kde = True,\n             kde_kws = {'linewidth': 3})\n\n# Plot formatting\nplt.title('Density Curve of Converted Compensation')\nplt.xlabel('Annual USD Salaries')\nplt.ylabel('Number of Respondents')",
      "metadata": {
        "trusted": true
      },
      "outputs": [],
      "execution_count": null
    },
    {
      "cell_type": "code",
      "source": "# Plot the histogram for the column ConvertedComp.\n#\n# 繪製 ConvertedComp 欄位的直方圖。\n#\n\n# your code goes here\nax = sns.histplot(df['ConvertedComp'])",
      "metadata": {
        "trusted": true
      },
      "outputs": [],
      "execution_count": null
    },
    {
      "cell_type": "code",
      "source": "# Plot the histogram for the column ConvertedComp.\n#\n# 繪製 ConvertedComp 欄位的直方圖。\n#\n\ndf['ConvertedComp'].plot(kind='hist', figsize=(8, 5))\n\n# add a title to the histogram\nplt.title('Histogram of Converted Compensation')\n# add y-label\nplt.ylabel('Number of Respondents')\n# add x-label\nplt.xlabel('Annual USD Salaries')\n\nplt.show()",
      "metadata": {
        "trusted": true
      },
      "outputs": [],
      "execution_count": null
    },
    {
      "cell_type": "code",
      "source": "# Plot the histogram for the column ConvertedComp.\n#\n# 繪製 ConvertedComp 欄位的直方圖。\n#\n\ndf['ConvertedComp'].plot.hist(bins=12, alpha=0.5)",
      "metadata": {
        "trusted": true
      },
      "outputs": [],
      "execution_count": null
    },
    {
      "cell_type": "code",
      "source": "# Plot the histogram for the column ConvertedComp.\n#\n# 繪製 ConvertedComp 欄位的直方圖。\n#\n\nimport matplotlib as mpl\n%matplotlib inline\nimport matplotlib.pyplot as plt\nplt.hist(df['ConvertedComp'])",
      "metadata": {
        "trusted": true
      },
      "outputs": [],
      "execution_count": null
    },
    {
      "cell_type": "code",
      "source": "# This Python code, specifically using the pandas library, is used to generate descriptive statistics for a numerical column named ConvertedComp within a DataFrame df.\n#\n# Breakdown:\n#\n# df['ConvertedComp']: This part selects the 'ConvertedComp' column from the DataFrame df.\n# .describe(): This method calculates various statistical measures for the selected column, including:\n# count: The number of non-missing values.\n# mean: The average value.\n# std: The standard deviation.\n# min: The minimum value.\n# 25%: The 25th percentile (first quartile).\n# 50%: The 50th percentile (median).\n# 75%: The 75th percentile (third quartile).\n# max: The maximum value.\n# By executing this code, you'll get a concise summary of the distribution and central tendency of the 'ConvertedComp' column, which can be helpful for data exploration and analysis.\n#\n\ndf['ConvertedComp'].describe()",
      "metadata": {
        "trusted": true
      },
      "outputs": [],
      "execution_count": null
    },
    {
      "cell_type": "code",
      "source": "# 此 Python 程式碼專門使用 pandas 函式庫，用於為 DataFrame df 中名為 ConvertedComp 的數字列產生描述性統計資料。\n# \n# 分解：\n#\n# df['ConvertedComp']：這部分從 DataFrame df 中選擇 'ConvertedComp' 欄位。\n# .describe()：此方法計算所選列的各種統計量測，包括：\n# count：非缺失值的數量。\n# 平均值：平均值。\n# std：標準差。\n# min：最小值。\n# 25%：第 25 個百分位數（第一個四分位數）。\n# 50%：第 50 個百分位數（中位數）。\n# 75%：第 75 個百分位數（第三個四分位數）。\n# 最大值：最大值。\n# 透過執行此程式碼，您將獲得「ConvertedComp」列的分佈和集中趨勢的簡明摘要，這有助於資料探索和分析。\n#\n\ndf['ConvertedComp'].describe()",
      "metadata": {
        "trusted": true
      },
      "outputs": [],
      "execution_count": null
    },
    {
      "cell_type": "code",
      "source": "# What is the median of the column ConvertedComp?\n#\n# ConvertedComp 欄位的中位數是多少？",
      "metadata": {
        "trusted": true
      },
      "outputs": [],
      "execution_count": null
    },
    {
      "cell_type": "code",
      "source": "# What is the median of the column ConvertedComp?\n#\n# ConvertedComp 欄位的中位數是多少？\n\ndf['ConvertedComp'].median()",
      "metadata": {
        "trusted": true
      },
      "outputs": [],
      "execution_count": null
    },
    {
      "cell_type": "code",
      "source": "# What is the median of the column ConvertedComp?\n#\n# ConvertedComp 欄位的中位數是多少？\n\n# your code goes here\ndf['ConvertedComp'].dropna(axis=0,inplace=True) \nprint(\"ConvertedComp Median:\", df['ConvertedComp'].median())",
      "metadata": {
        "trusted": true
      },
      "outputs": [],
      "execution_count": null
    },
    {
      "cell_type": "code",
      "source": "# What is the median of the column ConvertedComp?\n#\n# ConvertedComp 欄位的中位數是多少？\n\nprint('median ConvertedComp is',df['ConvertedComp'].median())\nprint('median Age is',df['Age'].median())",
      "metadata": {
        "trusted": true
      },
      "outputs": [],
      "execution_count": null
    },
    {
      "cell_type": "code",
      "source": "# How many responders identified themselves only as a Man?\n#\n# 有多少受訪者只認為自己是男性？",
      "metadata": {
        "trusted": true
      },
      "outputs": [],
      "execution_count": null
    },
    {
      "cell_type": "code",
      "source": "# How many responders identified themselves only as a Man?\n#\n# 有多少受訪者只認為自己是男性？\n#\n\ndf['Gender'].value_counts()",
      "metadata": {
        "trusted": true
      },
      "outputs": [],
      "execution_count": null
    },
    {
      "cell_type": "code",
      "source": "# How many responders identified themselves only as a Man?\n#\n# 有多少受訪者只認為自己是男性？\n#\n\nprint('\\n\\nThere are', df['Gender'].nunique(), 'unique Gender values in the survey:')\n\nprint('\\nGender        value count')      \nprint('------        -----------')\nprint(df['Gender'].value_counts())\n\nprint('\\n', df['Gender'].eq('Man').sum(), 'respondents identify as \"Man\"')",
      "metadata": {
        "trusted": true
      },
      "outputs": [],
      "execution_count": null
    },
    {
      "cell_type": "code",
      "source": "df['Gender'].value_counts()",
      "metadata": {
        "trusted": true
      },
      "outputs": [],
      "execution_count": null
    },
    {
      "cell_type": "code",
      "source": "# Find out the median ConvertedComp of responders identified themselves only as a Woman?\n# \n# 找出僅認為自己是女性的受訪者的 ConvertedComp 中位數？",
      "metadata": {
        "trusted": true
      },
      "outputs": [],
      "execution_count": null
    },
    {
      "cell_type": "code",
      "source": "# Find out the median ConvertedComp of responders identified themselves only as a Woman?\n# \n# 找出僅認為自己是女性的受訪者的 ConvertedComp 中位數？\n\ndf_woman=df[df['Gender']=='Woman']\nprint(\"Woman Median:\", df_woman['ConvertedComp'].median())",
      "metadata": {
        "trusted": true
      },
      "outputs": [],
      "execution_count": null
    },
    {
      "cell_type": "code",
      "source": "# Find out the median ConvertedComp of responders identified themselves only as a Woman?\n# \n# 找出僅認為自己是女性的受訪者的 ConvertedComp 中位數？\n\ndf['ConvertedComp'].median()\nprint('The median ConvertedComp of responders identified themselves only as a Woman is', df[df['Gender'].eq('Woman')]['ConvertedComp'].median())\n",
      "metadata": {
        "trusted": true
      },
      "outputs": [],
      "execution_count": null
    },
    {
      "cell_type": "code",
      "source": "# Find out the median ConvertedComp of responders identified themselves only as a Woman?\n# \n# 找出僅認為自己是女性的受訪者的 ConvertedComp 中位數？\n\ndf_woman=df[df['Gender']=='Woman']\nprint(\"Woman Median:\", df_woman['ConvertedComp'].median())",
      "metadata": {
        "trusted": true
      },
      "outputs": [],
      "execution_count": null
    },
    {
      "cell_type": "code",
      "source": "# Find out the median ConvertedComp of responders identified themselves only as a Woman?\n# \n# 找出僅認為自己是女性的受訪者的 ConvertedComp 中位數？\n\ndf.loc[(df['Gender'] == 'Woman'), 'ConvertedComp'].median()",
      "metadata": {
        "trusted": true
      },
      "outputs": [],
      "execution_count": null
    },
    {
      "cell_type": "code",
      "source": "# Find out the median ConvertedComp of responders identified themselves only as a Woman?\n# \n# 找出僅認為自己是女性的受訪者的 ConvertedComp 中位數？\n\ndf[df['Gender'] == 'Woman']['ConvertedComp'].median()",
      "metadata": {
        "trusted": true
      },
      "outputs": [],
      "execution_count": null
    },
    {
      "cell_type": "code",
      "source": "# Give the five number summary for the column Age?\n#\n# 給出「年齡」列的五個數字摘要？",
      "metadata": {
        "trusted": true
      },
      "outputs": [],
      "execution_count": null
    },
    {
      "cell_type": "code",
      "source": "# Give the five number summary for the column Age?\n#\n# 給出「年齡」列的五個數字摘要？\n\ndf['Age'].describe()",
      "metadata": {
        "trusted": true
      },
      "outputs": [],
      "execution_count": null
    },
    {
      "cell_type": "code",
      "source": "# Plot a histogram of the column Age.\n#\n# 繪製年齡列的直方圖。",
      "metadata": {
        "trusted": true
      },
      "outputs": [],
      "execution_count": null
    },
    {
      "cell_type": "code",
      "source": "# Plot a histogram of the column Age.\n#\n# 繪製年齡列的直方圖。\n\ndf['Age'].plot(kind='hist', figsize=(8, 5))\n\n# add a title to the histogram\nplt.title(\"Histogram of Respondent's Age\")\n# add y-label\nplt.ylabel('Number of Respondents')\n# add x-label\nplt.xlabel('Interval Age')\n\nplt.show()",
      "metadata": {
        "trusted": true
      },
      "outputs": [],
      "execution_count": null
    },
    {
      "cell_type": "code",
      "source": "# Plot a histogram of the column Age.\n#\n# 繪製年齡列的直方圖。\n\nplt.hist(df['Age'])",
      "metadata": {
        "trusted": true
      },
      "outputs": [],
      "execution_count": null
    },
    {
      "cell_type": "code",
      "source": "# Plot a histogram of the column Age.\n#\n# 繪製年齡列的直方圖。\n\ndf['Age'].plot.hist(bins=20, alpha=0.5)",
      "metadata": {
        "trusted": true
      },
      "outputs": [],
      "execution_count": null
    },
    {
      "cell_type": "code",
      "source": "# Plot a histogram of the column Age.\n#\n# 繪製年齡列的直方圖。\n\ndf['Age'].median()",
      "metadata": {
        "trusted": true
      },
      "outputs": [],
      "execution_count": null
    },
    {
      "cell_type": "code",
      "source": "sns.histplot(df['Age'])",
      "metadata": {
        "trusted": true
      },
      "outputs": [],
      "execution_count": null
    },
    {
      "cell_type": "code",
      "source": "# Outliers\n# Finding outliers\n# Find out if outliers exist in the column ConvertedComp using a box plot?\n#\n# 異常值 尋找異常值 使用箱線圖找出 ConvertedComp 欄位中是否有異常值？\n#",
      "metadata": {
        "trusted": true
      },
      "outputs": [],
      "execution_count": null
    },
    {
      "cell_type": "code",
      "source": "# Outliers\n# Finding outliers\n# Find out if outliers exist in the column ConvertedComp using a box plot?\n#\n# 異常值 尋找異常值 使用箱線圖找出 ConvertedComp 欄位中是否有異常值？\n#",
      "metadata": {
        "trusted": true
      },
      "outputs": [],
      "execution_count": null
    },
    {
      "cell_type": "code",
      "source": "# Outliers\n# Finding outliers\n# Find out if outliers exist in the column ConvertedComp using a box plot?\n#\n# 異常值 尋找異常值 使用箱線圖找出 ConvertedComp 欄位中是否有異常值？\n#\n\nax = sns.boxplot(x=df['ConvertedComp'])",
      "metadata": {
        "trusted": true
      },
      "outputs": [],
      "execution_count": null
    },
    {
      "cell_type": "code",
      "source": "ax = sns.boxplot(x=df['Age'])",
      "metadata": {
        "trusted": true
      },
      "outputs": [],
      "execution_count": null
    },
    {
      "cell_type": "code",
      "source": "# Outliers\n# Finding outliers\n# Find out if outliers exist in the column ConvertedComp using a box plot?\n#\n# 異常值 尋找異常值 使用箱線圖找出 ConvertedComp 欄位中是否有異常值？\n#\n\nsns.boxplot(x=df[\"ConvertedComp\"])\n",
      "metadata": {
        "trusted": true
      },
      "outputs": [],
      "execution_count": null
    },
    {
      "cell_type": "code",
      "source": "# Outliers\n# Finding outliers\n# Find out if outliers exist in the column ConvertedComp using a box plot?\n#\n# 異常值 尋找異常值 使用箱線圖找出 ConvertedComp 欄位中是否有異常值？\n#\n\ndf_cv = pd.DataFrame(data=df['ConvertedComp'])\ndf_cv.plot(kind='box', figsize=(8,6))\nplt.show()",
      "metadata": {
        "trusted": true
      },
      "outputs": [],
      "execution_count": null
    },
    {
      "cell_type": "code",
      "source": "# Outliers\n# Finding outliers\n# Find out if outliers exist in the column ConvertedComp using a box plot?\n#\n# 異常值 尋找異常值 使用箱線圖找出 ConvertedComp 欄位中是否有異常值？\n#\n\nimport matplotlib.pyplot as plt\n\n\ndf['ConvertedComp'].plot(kind='box', figsize=(8, 6))\n\nplt.title('Distribution Data of Converted Compensation')\nplt.ylabel('Annual USD Salary')\n\nplt.show()",
      "metadata": {
        "trusted": true
      },
      "outputs": [],
      "execution_count": null
    },
    {
      "cell_type": "code",
      "source": "# Find out the Inter Quartile Range for the column ConvertedComp.\n#\n# 求出 ConvertedComp 欄位的四分位數範圍。\n#",
      "metadata": {
        "trusted": true
      },
      "outputs": [],
      "execution_count": null
    },
    {
      "cell_type": "code",
      "source": "df['ConvertedComp'].describe()",
      "metadata": {
        "trusted": true
      },
      "outputs": [],
      "execution_count": null
    },
    {
      "cell_type": "code",
      "source": "Q1 = df['ConvertedComp'].quantile(0.25)\nQ3 = df['ConvertedComp'].quantile(0.75)\nIQR = Q3 - Q1\nprint('The middle quartiles for ConvertedComp range from',Q1, 'to',Q3,'. The interquartile range is',IQR)",
      "metadata": {
        "trusted": true
      },
      "outputs": [],
      "execution_count": null
    },
    {
      "cell_type": "code",
      "source": "# Explanation:\n#\n# Calculate Quartiles:\n#\n# Q1 = df['ConvertedComp'].quantile(0.25): Calculates the 25th percentile (first quartile) of the 'ConvertedComp' column.\n# Q3 = df['ConvertedComp'].quantile(0.75): Calculates the 75th percentile (third quartile) of the 'ConvertedComp' column.\n# Calculate IQR:\n#\n# IQR = Q3 - Q1: Subtracts the first quartile from the third quartile to get the interquartile range.\n# Print IQR:\n\n# The calculated IQR is printed to the console.\n# The IQR is a statistical measure of dispersion that indicates the range of the middle 50% of the data. It's often used to identify outliers and understand the spread of the data.\n# import pandas as pd\n\n\n# 解釋：\t\n#\t\n# 計算四分位數：\t\n#\t\n# Q1 = df['ConvertedComp'].quantile(0.25)：計算 'ConvertedComp' 欄位的第 25 個百分位數（第一個四分位數）。\t\n# Q3 = df['ConvertedComp'].quantile(0.75)：計算 'ConvertedComp' 欄位的第 75 個百分位數（第三個四分位數）。\t\n# 計算 IQR：\t\n#\t\n# IQR = Q3 - Q1：用第三個四分位數減去第一個四分位數即可得到四分位數間距。\t\n# 列印 IQR：\t\n#\t\n# 計算出的 IQR 將列印到控制台。\t\n# IQR 是離散度的統計量測，指示中間 50% 資料的範圍。它通常用於識別異常值並了解資料的傳播。\t\n#\n\n# Assuming you have a DataFrame named 'df' with a 'ConvertedComp' column\n\n\n# Calculate the interquartile range (IQR)\nQ1 = df['ConvertedComp'].quantile(0.25)\nQ3 = df['ConvertedComp'].quantile(0.75)\nIQR = Q3 - Q1\n\nprint(\"Interquartile Range (IQR):\", IQR)",
      "metadata": {
        "trusted": true
      },
      "outputs": [],
      "execution_count": null
    },
    {
      "cell_type": "code",
      "source": "# Find out the Inter Quartile Range for the column ConvertedComp.\n#\n# 求出 ConvertedComp 欄位的四分位數範圍。\n\n# Explanation:\n#\n# 1. Calculate IQR: As mentioned earlier, \n#    we calculate the interquartile range to determine the spread of the middle 50% of the data.\n# 2. Define Threshold: We set a threshold based on the IQR to identify outliers. \n#    Any value below the lower bound or above the upper bound is considered an outlier.\n# 3. Calculate Bounds: We calculate the lower and upper bounds using the IQR and the defined threshold.\n#\n# These bounds can be used to identify outliers in the ConvertedComp column. \n# Outliers can significantly impact statistical analysis and machine learning models, \n# so it's important to identify and handle them appropriately.\n\n\nimport pandas as pd\n\n# Assuming you have a DataFrame named 'df' with a 'ConvertedComp' column\n\n# Calculate the interquartile range (IQR)\nQ1 = df['ConvertedComp'].quantile(0.25)\nQ3 = df['ConvertedComp'].quantile(0.75)\nIQR = Q3 - Q1\n\n# Define the threshold for outliers (e.g., 1.5 times the IQR)\nthreshold = 1.5 * IQR\n\n# Calculate the lower and upper bounds\nlower_bound = Q1 - threshold\nupper_bound = Q3 + threshold\n\nprint(\"Lower Bound:\", lower_bound)\nprint(\"Upper Bound:\", upper_bound)",
      "metadata": {
        "trusted": true
      },
      "outputs": [],
      "execution_count": null
    },
    {
      "cell_type": "code",
      "source": "# Identify how many outliers are there in the ConvertedComp column.\n#\n# 確定 ConvertedComp 欄位中有多少個異常值。\n\nimport pandas as pd\nimport numpy as np\n\n# Assuming you have a DataFrame named 'df' with a 'ConvertedComp' column\n\n# Calculate the interquartile range (IQR)\nQ1 = df['ConvertedComp'].quantile(0.25)\nQ3 = df['ConvertedComp'].quantile(0.75)\nIQR = Q3 - Q1\n\n# Define the threshold for outliers (e.g., 1.5 times the IQR)\nthreshold = 1.5 * IQR\n\n# Identify outliers\noutliers = (df['ConvertedComp'] < Q1 - threshold) | (df['ConvertedComp'] > Q3 + threshold)\n\n# Count the number of outliers\nnum_outliers = outliers.sum()\n\nprint(\"Number of outliers in 'ConvertedComp':\", num_outliers)",
      "metadata": {
        "trusted": true
      },
      "outputs": [],
      "execution_count": null
    },
    {
      "cell_type": "code",
      "source": "# Create a new dataframe by removing the outliers from the ConvertedComp column.\n#\n# 透過從 ConvertedComp 欄位中刪除異常值來建立新的資料框。\n#\n\n# your code goes here\n\nimport pandas as pd\n\n# Assuming you have a DataFrame named 'df' with a 'ConvertedComp' column\n\n# Calculate the interquartile range (IQR)\nQ1 = df['ConvertedComp'].quantile(0.25)\nQ3 = df['ConvertedComp'].quantile(0.75)\nIQR = Q3 - Q1\n\n# Define the threshold for outliers (e.g., 1.5 times the IQR)\nthreshold = 1.5 * IQR\n\n# Identify outliers\noutliers = (df['ConvertedComp'] < Q1 - threshold) | (df['ConvertedComp'] > Q3 + threshold)\n\n# Create a new DataFrame without outliers\ndf_no_outliers = df[~outliers]\n",
      "metadata": {
        "trusted": true
      },
      "outputs": [],
      "execution_count": null
    },
    {
      "cell_type": "code",
      "source": "df_no_outliers.describe()",
      "metadata": {
        "trusted": true
      },
      "outputs": [],
      "execution_count": null
    },
    {
      "cell_type": "code",
      "source": "# Correlation\n# Finding correlation\n# Find the correlation between Age and all other numerical columns.\n\n# 尋找相關性\n# 找出年齡和所有其他數字列之間的相關性。\n\n\nimport pandas as pd\n\n# Assuming you have a DataFrame named 'df' with columns 'Age' and other numerical columns\n\n# Select numerical columns (excluding 'Age')\nnumerical_columns = df.select_dtypes(include=np.number).columns.tolist()\n\n# Calculate correlation with 'Age'\ncorrelations = df[['Age'] + numerical_columns].corr()['Age']\n\nprint(correlations)\n\n",
      "metadata": {
        "trusted": true
      },
      "outputs": [],
      "execution_count": null
    },
    {
      "cell_type": "code",
      "source": "",
      "metadata": {
        "trusted": true
      },
      "outputs": [],
      "execution_count": null
    },
    {
      "cell_type": "code",
      "source": "#\n# case1\n#",
      "metadata": {
        "trusted": true
      },
      "outputs": [],
      "execution_count": null
    },
    {
      "cell_type": "code",
      "source": "# 解釋：\n#\n# 計算 IQR：如前所述，我們計算四分位數範圍以決定中間 50% 資料的分佈。\n# 定義閾值：我們根據 IQR 設定閾值來識別異常值。任何低於下限或高於上限的值都被視為異常值。\n# 計算界限：我們使用 IQR 和定義的閾值計算下限和上限。\n# 這些界限可用於識別 ConvertedComp 欄位中的異常值。異常值可能會對統計分析和機器學習模型產生重大影響，因此正確識別和處理它們非常重要。\n#\nimport pandas as pd\n\n# Assuming you have a DataFrame named 'df' with a 'ConvertedComp' column\n\n# Calculate the interquartile range (IQR)\nQ1 = df['ConvertedComp'].quantile(0.25)\nQ3 = df['ConvertedComp'].quantile(0.75)\nIQR = Q3 - Q1\n\nprint(\"Interquartile Range (IQR):\", IQR)",
      "metadata": {
        "trusted": true
      },
      "outputs": [],
      "execution_count": null
    },
    {
      "cell_type": "code",
      "source": "# Find out the Inter Quartile Range for the column ConvertedComp.\n#\n# 求出 ConvertedComp 欄位的四分位數範圍。\n\nIQR = df['ConvertedComp'].quantile(0.75) - df['ConvertedComp'].quantile(0.25)\nIQR\n",
      "metadata": {
        "trusted": true
      },
      "outputs": [],
      "execution_count": null
    },
    {
      "cell_type": "code",
      "source": "# Find out the upper and lower bounds.\n#\n# 找出上限和下限。\n\nLbound = df['ConvertedComp'].quantile(0.25) - 1.5*IQR\nLbound = max(Lbound, df['ConvertedComp'].min())\nLbound",
      "metadata": {
        "trusted": true
      },
      "outputs": [],
      "execution_count": null
    },
    {
      "cell_type": "code",
      "source": "Ubound = df['ConvertedComp'].quantile(0.75) + 1.5*IQR\nUbound",
      "metadata": {
        "trusted": true
      },
      "outputs": [],
      "execution_count": null
    },
    {
      "cell_type": "code",
      "source": "# Identify how many outliers are there in the ConvertedComp column.\n#\n# 確定 ConvertedComp 欄位中有多少個異常值。\n\nlen(df[df['ConvertedComp'] > Ubound])",
      "metadata": {
        "trusted": true
      },
      "outputs": [],
      "execution_count": null
    },
    {
      "cell_type": "code",
      "source": "# Create a new dataframe by removing the outliers from the ConvertedComp column.\n#\n# 透過從 ConvertedComp 欄位中刪除異常值來建立新的資料框。\n#\n\ndf2 = df[df['ConvertedComp'] <= Ubound]\ndf2['ConvertedComp'].median()",
      "metadata": {
        "trusted": true
      },
      "outputs": [],
      "execution_count": null
    },
    {
      "cell_type": "code",
      "source": "df2['ConvertedComp'].mean()",
      "metadata": {
        "trusted": true
      },
      "outputs": [],
      "execution_count": null
    },
    {
      "cell_type": "code",
      "source": "# Correlation\n# Finding correlation\n# Find the correlation between Age and all other numerical columns.\n\n# 相關性 尋找相關性 找出年齡和所有其他數字列之間的相關性。\n\ndf.corr()['Age']",
      "metadata": {
        "trusted": true
      },
      "outputs": [],
      "execution_count": null
    },
    {
      "cell_type": "code",
      "source": "",
      "metadata": {
        "trusted": true
      },
      "outputs": [],
      "execution_count": null
    },
    {
      "cell_type": "code",
      "source": "#\n# case 2\n#",
      "metadata": {
        "trusted": true
      },
      "outputs": [],
      "execution_count": null
    },
    {
      "cell_type": "code",
      "source": "# Find out the Inter Quartile Range for the column ConvertedComp.\n#\n# 求出 ConvertedComp 欄位的四分位數範圍。\n\ndf['ConvertedComp'].describe()",
      "metadata": {
        "trusted": true
      },
      "outputs": [],
      "execution_count": null
    },
    {
      "cell_type": "code",
      "source": "Q1 = df['ConvertedComp'].quantile(0.25)\nQ3 = df['ConvertedComp'].quantile(0.75)\nIQR = Q3 - Q1\nprint('The middle quartiles for ConvertedComp range from',Q1, 'to',Q3,'. The interquartile range is',IQR)",
      "metadata": {
        "trusted": true
      },
      "outputs": [],
      "execution_count": null
    },
    {
      "cell_type": "code",
      "source": "# Find out the upper and lower bounds.\n#\n# 找出上限和下限。\n\nmin_val = df['ConvertedComp'].min()\nmax_val = df['ConvertedComp'].max()\nprint('The min/max for ConvertedComp are',min_val, 'and', max_val)",
      "metadata": {
        "trusted": true
      },
      "outputs": [],
      "execution_count": null
    },
    {
      "cell_type": "code",
      "source": "",
      "metadata": {
        "trusted": true
      },
      "outputs": [],
      "execution_count": null
    },
    {
      "cell_type": "code",
      "source": "# Explanation:\n#\n# 1. Calculate IQR: We calculate the interquartile range (IQR), \n#    which is the difference between the 75th percentile (Q3) and the 25th percentile (Q1) of the data.   \n# 2. Define Threshold: We set a threshold for identifying outliers. \n#    Common practice is to use 1.5 times the IQR.\n# 3. Identify Outliers: We create a boolean mask outliers to identify rows \n#    where the ConvertedComp value is either below Q1 - threshold or above Q3 + threshold.\n# 4. Create New DataFrame: We use the boolean mask to filter the original DataFrame \n#    and create a new DataFrame df_no_outliers that excludes the rows with outliers.\n#\n# By following these steps, you can effectively remove outliers from the ConvertedComp column \n# and create a new DataFrame for further analysis.\n                  \n\n# 解釋：\n# \n# 1. 計算 IQR：我們計算四分位數間距 (IQR)，也就是資料的第 75 個百分位數 (Q3) 和第 25 個百分位數 (Q1) 之間的差。\n# 2. 定義閾值：我們設定一個閾值來識別異常值。常見的做法是使用 1.5 倍的 IQR。\n# 3. 識別異常值：我們建立一個布林遮罩異常值來識別 ConvertedComp 值低於 Q1 - 閾值或高於 Q3 + 閾值的行。\n# 4. 建立新的 DataFrame：我們使用布林遮罩來過濾原始 DataFrame 並建立新的 DataFrame df_no_outliers，以排除具有異常值的行。\n                                                                                                                      \n# 透過執行這些步驟，您可以有效地從 ConvertedComp 資料列中刪除異常值，並建立新的 DataFrame 以進行進一步分析。",
      "metadata": {
        "trusted": true
      },
      "outputs": [],
      "execution_count": null
    },
    {
      "cell_type": "code",
      "source": "# Identify how many outliers are there in the ConvertedComp column.\n#\n# 確定 ConvertedComp 欄位中有多少個異常值。\n\n# It's an outlier if it is less than: Q1 - 1.5 * IQR. or if it is greater than: Q3 + 1.5 * IQR\nprint('Outliers below:',df['ConvertedComp'].lt(Q1 - 1.5*IQR).sum())\nprint('Outliers above:',df['ConvertedComp'].gt(Q3 + 1.5*IQR).sum())\nprint('Outliers below:',df['ConvertedComp'].lt(Q1 - 1.5*IQR).sum())\nprint('Median with outliers:',df['ConvertedComp'].median())\nprint('Median with outliers removed:',df[df['ConvertedComp'].le(Q3 + 1.5*IQR)]['ConvertedComp'].median())\nprint('Mean with outliers removed:',df[df['ConvertedComp'].le(Q3 + 1.5*IQR)]['ConvertedComp'].mean())",
      "metadata": {
        "trusted": true
      },
      "outputs": [],
      "execution_count": null
    },
    {
      "cell_type": "code",
      "source": "# Create a new dataframe by removing the outliers from the ConvertedComp column.\n#\n# 透過從 ConvertedComp 欄位中刪除異常值來建立新的資料框。\n\nprint(df.shape)\nprint(df['ConvertedComp'].gt(Q3 + 1.5*IQR).shape)\ndf1 = df[df['ConvertedComp'].le(Q3 + 1.5*IQR)]\nprint('total number in new dataset:',df1.shape[0])\ndf[df['ConvertedComp'].gt(Q3 + 1.5*IQR)].shape\nprint('total number of outliers removed:',df2.shape[0])\ndf3 = df[df['ConvertedComp'].isnull()]\nprint('total number of nulls removed:',df3.shape[0])\nprint('total of outliers + inliers + nulls:', (9703 + 879 + 816))",
      "metadata": {
        "trusted": true
      },
      "outputs": [],
      "execution_count": null
    },
    {
      "cell_type": "code",
      "source": "import pandas as pd\nimport numpy as np\n\n# Assuming you have a DataFrame named 'df' with a 'ConvertedComp' column\n\n# Calculate the interquartile range (IQR)\nQ1 = df['ConvertedComp'].quantile(0.25)\nQ3 = df['ConvertedComp'].quantile(0.75)\nIQR = Q3 - Q1\n\n# Define the threshold for outliers (e.g., 1.5 times the IQR)\nthreshold = 1.5 * IQR\n\n# Identify outliers\noutliers = (df['ConvertedComp'] < Q1 - threshold) | (df['ConvertedComp'] > Q3 + threshold)\n\n# Create a new DataFrame without outliers\ndf_no_outliers = df[~outliers]",
      "metadata": {
        "trusted": true
      },
      "outputs": [],
      "execution_count": null
    },
    {
      "cell_type": "code",
      "source": "print (threshold)\nprint (outliers)\ndf_no_outliers.shape",
      "metadata": {
        "trusted": true
      },
      "outputs": [],
      "execution_count": null
    },
    {
      "cell_type": "code",
      "source": "non_numeric = df[~df['ConvertedComp'].apply(lambda x: isinstance(x, (int, float)))]\nprint(non_numeric)",
      "metadata": {
        "trusted": true
      },
      "outputs": [],
      "execution_count": null
    },
    {
      "cell_type": "code",
      "source": "df = df[df['ConvertedComp'].apply(lambda x: isinstance(x, (int, float)))]",
      "metadata": {
        "trusted": true
      },
      "outputs": [],
      "execution_count": null
    },
    {
      "cell_type": "code",
      "source": "df['ConvertedComp'] = pd.to_numeric(df['ConvertedComp'], errors='coerce')\ndf['ConvertedComp'].fillna(df['ConvertedComp'].mean(), inplace=True)",
      "metadata": {
        "trusted": true
      },
      "outputs": [],
      "execution_count": null
    },
    {
      "cell_type": "code",
      "source": "df['ConvertedComp'].fillna(df['ConvertedComp'].mean(), inplace=True)\n",
      "metadata": {
        "trusted": true
      },
      "outputs": [],
      "execution_count": null
    },
    {
      "cell_type": "code",
      "source": "# Correlation\n# Finding correlation\n# Find the correlation between Age and all other numerical columns.\n\n# 尋找相關性\n# 找出年齡和所有其他數字列之間的相關性。\n\ndf.corr()['Age']",
      "metadata": {
        "trusted": true
      },
      "outputs": [],
      "execution_count": null
    },
    {
      "cell_type": "code",
      "source": "#\n# case 3\n#",
      "metadata": {
        "trusted": true
      },
      "outputs": [],
      "execution_count": null
    },
    {
      "cell_type": "code",
      "source": "# Find out the Inter Quartile Range for the column ConvertedComp.\n#\n# 求出 ConvertedComp 欄位的四分位數範圍。\n\ndf['ConvertedComp'].dropna(axis=0,inplace=True) \nQ1,Q3=df['ConvertedComp'].quantile(.25),df['ConvertedComp'].quantile(.75)\nIQR=Q3 - Q1\nprint('The Inter Quartile Range for ConvertedComp:', IQR)",
      "metadata": {
        "trusted": true
      },
      "outputs": [],
      "execution_count": null
    },
    {
      "cell_type": "code",
      "source": "# Find out the upper and lower bounds.\n#\n# 找出上限和下限。\n\nupper=Q3+(IQR*1.5)\nlower=Q1-(IQR*1.5)\n\nprint('Upper Bound:', upper)\nprint('Lower Bound:', lower)",
      "metadata": {
        "trusted": true
      },
      "outputs": [],
      "execution_count": null
    },
    {
      "cell_type": "code",
      "source": "# Identify how many outliers are there in the ConvertedComp column.\n#\n# 確定 ConvertedComp 欄位中有多少個異常值。\n\n(df['ConvertedComp']<lower) | (df['ConvertedComp']>upper)",
      "metadata": {
        "trusted": true
      },
      "outputs": [],
      "execution_count": null
    },
    {
      "cell_type": "code",
      "source": "# Create a new dataframe by removing the outliers from the ConvertedComp column.\n#\n# 透過從 ConvertedComp 欄位中刪除異常值來建立新的資料框。\n#\n\ndf2new=df['ConvertedComp'].clip(upper,lower)\ndf2new.describe()",
      "metadata": {
        "trusted": true
      },
      "outputs": [],
      "execution_count": null
    },
    {
      "cell_type": "code",
      "source": "# Correlation\n# Finding correlation\n# Find the correlation between Age and all other numerical columns.\n\n# 尋找相關性\n# 找出年齡和所有其他數字列之間的相關性。\n\ndf.corr()",
      "metadata": {
        "trusted": true
      },
      "outputs": [],
      "execution_count": null
    },
    {
      "cell_type": "code",
      "source": "df.corr()['Age']",
      "metadata": {
        "trusted": true
      },
      "outputs": [],
      "execution_count": null
    },
    {
      "cell_type": "code",
      "source": "# \n# case 4\n#",
      "metadata": {
        "trusted": true
      },
      "outputs": [],
      "execution_count": null
    },
    {
      "cell_type": "code",
      "source": "# Find out the Inter Quartile Range for the column ConvertedComp.\n#\n# 求出 ConvertedComp 欄位的四分位數範圍。\n\ndf['ConvertedComp'].describe()",
      "metadata": {
        "trusted": true
      },
      "outputs": [],
      "execution_count": null
    },
    {
      "cell_type": "code",
      "source": "# Q1, Q3, and IQR\nQ1 = df['ConvertedComp'].quantile(0.25)\nQ3 = df['ConvertedComp'].quantile(0.75)\nIQR = Q3 - Q1\nIQR",
      "metadata": {
        "trusted": true
      },
      "outputs": [],
      "execution_count": null
    },
    {
      "cell_type": "code",
      "source": "# Find out the upper and lower bounds.\n#\n# 找出上限和下限。\n\nupper_bounds = Q3 + 1.5 * IQR\nprint('Upper Bounds :', upper_bounds)\nlower_bounds = Q1 - 1.5*IQR\nprint('Lower Bounds :', lower_bounds)",
      "metadata": {
        "trusted": true
      },
      "outputs": [],
      "execution_count": null
    },
    {
      "cell_type": "code",
      "source": "# Identify how many outliers are there in the ConvertedComp column.\n#\n# 確定 ConvertedComp 欄位中有多少個異常值。\n\noutlier =[]\nfor x in df['ConvertedComp']:\n  if ((x > upper_bounds) or (x < lower_bounds)):\n    outlier.append(x)\nprint(' outlier in the ConvertedComp column is', len(outlier))",
      "metadata": {
        "trusted": true
      },
      "outputs": [],
      "execution_count": null
    },
    {
      "cell_type": "code",
      "source": "# outlier in the ConvertedComp column is 879\n# Create a new dataframe by removing the outliers from the ConvertedComp column.\n#\n\n# Removing outliers\ndf_removed_outlier = df['ConvertedComp'][~((df['ConvertedComp'] < lower_bounds) | \n                                           (df['ConvertedComp'] > upper_bounds))]",
      "metadata": {
        "trusted": true
      },
      "outputs": [],
      "execution_count": null
    },
    {
      "cell_type": "code",
      "source": "df_removed_outlier.describe()",
      "metadata": {
        "trusted": true
      },
      "outputs": [],
      "execution_count": null
    },
    {
      "cell_type": "code",
      "source": "df['Age'].plot(kind='box', figsize=(8, 6))\n\nplt.title('Distribution Data of Age')\nplt.ylabel('Interval Age')\n\nplt.show()",
      "metadata": {
        "trusted": true
      },
      "outputs": [],
      "execution_count": null
    },
    {
      "cell_type": "code",
      "source": "# Correlation\n# Finding correlation\n# Find the correlation between Age and all other numerical columns.\n\nimport seaborn as sns\n\ncorr = df.corr()\ncmap = sns.diverging_palette(230, 20, as_cmap=True)\nplt.figure(figsize=(8,6))\nsns.heatmap(corr, cmap=cmap, annot=True, center=0, vmin=-1, square=True, linewidths=.5)\nplt.tight_layout()\nplt.show()",
      "metadata": {
        "trusted": true
      },
      "outputs": [],
      "execution_count": null
    },
    {
      "cell_type": "markdown",
      "source": "### ",
      "metadata": {}
    },
    {
      "cell_type": "code",
      "source": "",
      "metadata": {
        "trusted": true
      },
      "outputs": [],
      "execution_count": null
    }
  ]
}