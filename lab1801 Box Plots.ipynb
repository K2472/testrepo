{
 "cells": [
  {
   "cell_type": "markdown",
   "metadata": {},
   "source": [
    "<p style=\"text-align:center\">\n",
    "    <a href=\"https://skills.network\" target=\"_blank\">\n",
    "    <img src=\"https://cf-courses-data.s3.us.cloud-object-storage.appdomain.cloud/assets/logos/SN_web_lightmode.png\" width=\"200\" alt=\"Skills Network Logo\"  />\n",
    "    </a>\n",
    "</p>\n"
   ]
  },
  {
   "cell_type": "markdown",
   "metadata": {},
   "source": [
    "# **Box Plots**\n"
   ]
  },
  {
   "cell_type": "markdown",
   "metadata": {},
   "source": [
    "Estimated time needed: **45** minutes\n"
   ]
  },
  {
   "cell_type": "markdown",
   "metadata": {},
   "source": [
    "In this lab, you will focus on the visualization of data. The dataset will be provided through an RDBMS, and you will need to use SQL queries to extract the required data.\n"
   ]
  },
  {
   "cell_type": "markdown",
   "metadata": {},
   "source": [
    "## Objectives\n"
   ]
  },
  {
   "cell_type": "markdown",
   "metadata": {},
   "source": [
    "In this lab you will perform the following:\n"
   ]
  },
  {
   "cell_type": "markdown",
   "metadata": {},
   "source": [
    "-   Visualize the distribution of data.\n",
    "\n",
    "-   Visualize the relationship between two features.\n",
    "\n",
    "-   Visualize data composition and comparisons using box plots.\n"
   ]
  },
  {
   "cell_type": "markdown",
   "metadata": {},
   "source": [
    "### Setup: Connecting to the Database\n"
   ]
  },
  {
   "cell_type": "markdown",
   "metadata": {},
   "source": [
    "#### 1. Download the Database File\n"
   ]
  },
  {
   "cell_type": "code",
   "execution_count": null,
   "metadata": {},
   "outputs": [],
   "source": [
    "!wget https://cf-courses-data.s3.us.cloud-object-storage.appdomain.cloud/QR9YeprUYhOoLafzlLspAw/survey-results-public.sqlite"
   ]
  },
  {
   "cell_type": "markdown",
   "metadata": {},
   "source": [
    "#### 2. Connect to the Database\n"
   ]
  },
  {
   "cell_type": "markdown",
   "metadata": {},
   "source": [
    "**Install the needed libraries**\n"
   ]
  },
  {
   "cell_type": "code",
   "execution_count": null,
   "metadata": {},
   "outputs": [],
   "source": [
    "!pip install pandas"
   ]
  },
  {
   "cell_type": "code",
   "execution_count": null,
   "metadata": {},
   "outputs": [],
   "source": [
    "!pip install matplotlib"
   ]
  },
  {
   "cell_type": "code",
   "execution_count": null,
   "metadata": {},
   "outputs": [],
   "source": [
    "import sqlite3\n",
    "import pandas as pd\n",
    "import matplotlib.pyplot as plt\n",
    "\n",
    "# Connect to the SQLite database\n",
    "conn = sqlite3.connect('survey-results-public.sqlite')\n"
   ]
  },
  {
   "cell_type": "markdown",
   "metadata": {},
   "source": [
    "## Demo: Basic SQL Queries\n"
   ]
  },
  {
   "cell_type": "markdown",
   "metadata": {},
   "source": [
    "#### Demo 1: Count the Number of Rows in the Table\n"
   ]
  },
  {
   "cell_type": "code",
   "execution_count": null,
   "metadata": {},
   "outputs": [],
   "source": [
    "QUERY = \"SELECT COUNT(*) FROM main\"\n",
    "df = pd.read_sql_query(QUERY, conn)\n",
    "print(df)\n"
   ]
  },
  {
   "cell_type": "markdown",
   "metadata": {},
   "source": [
    "#### Demo 2: List All Tables\n"
   ]
  },
  {
   "cell_type": "code",
   "execution_count": null,
   "metadata": {},
   "outputs": [],
   "source": [
    "QUERY = \"\"\"\n",
    "SELECT name as Table_Name \n",
    "FROM sqlite_master \n",
    "WHERE type = 'table'\n",
    "\"\"\"\n",
    "pd.read_sql_query(QUERY, conn)\n"
   ]
  },
  {
   "cell_type": "markdown",
   "metadata": {},
   "source": [
    "#### Demo 3: Group Data by Age\n"
   ]
  },
  {
   "cell_type": "code",
   "execution_count": null,
   "metadata": {},
   "outputs": [],
   "source": [
    "QUERY = \"\"\"\n",
    "SELECT Age, COUNT(*) as count \n",
    "FROM main \n",
    "GROUP BY Age \n",
    "ORDER BY Age\n",
    "\"\"\"\n",
    "df_age = pd.read_sql_query(QUERY, conn)\n",
    "print(df_age)\n"
   ]
  },
  {
   "cell_type": "code",
   "execution_count": null,
   "metadata": {},
   "outputs": [],
   "source": [
    "# \n",
    "# Lab 18: Box Plots\n",
    "#"
   ]
  },
  {
   "cell_type": "code",
   "execution_count": null,
   "metadata": {},
   "outputs": [],
   "source": [
    "!pip install seaborn"
   ]
  },
  {
   "cell_type": "code",
   "execution_count": null,
   "metadata": {},
   "outputs": [],
   "source": [
    "import sqlite3\n",
    "import pandas as pd\n",
    "import matplotlib.pyplot as plt\n",
    "import seaborn as sns\n",
    "\n",
    "# Connect to the SQLite database\n",
    "conn = sqlite3.connect('survey-data.sqlite')\n",
    "\n",
    "# Query to get CompTotal and Age\n",
    "QUERY = \"\"\"\n",
    "SELECT CompTotal, Age\n",
    "FROM main\n",
    "WHERE CompTotal IS NOT NULL AND Age IN ('25-34 years old', '35-44 years old', '45-54 years old', '55-64 years old')\n",
    "\"\"\"\n",
    "df = pd.read_sql_query(QUERY, conn)\n",
    "\n",
    "# Create box plots using seaborn\n",
    "plt.figure(figsize=(12, 6))\n",
    "sns.boxplot(x='Age', y='CompTotal', data=df)\n",
    "plt.title('Box Plots of CompTotal by Age Group')\n",
    "plt.xlabel('Age Group')\n",
    "plt.ylabel('Total Compensation')\n",
    "plt.xticks(rotation=45, ha='right')  # Rotate x-axis labels\n",
    "plt.tight_layout()\n",
    "plt.show()\n",
    "\n",
    "# Close the connection\n",
    "conn.close()"
   ]
  },
  {
   "cell_type": "markdown",
   "metadata": {},
   "source": [
    "## Visualizing Data\n"
   ]
  },
  {
   "cell_type": "markdown",
   "metadata": {},
   "source": [
    "### Task 1: Visualizing the Distribution of Data\n"
   ]
  },
  {
   "cell_type": "markdown",
   "metadata": {},
   "source": [
    "**1. Box Plot of `CompTotal` (Total Compensation)**\n"
   ]
  },
  {
   "cell_type": "markdown",
   "metadata": {},
   "source": [
    "Use a box plot to analyze the distribution and outliers in total compensation.\n"
   ]
  },
  {
   "cell_type": "code",
   "execution_count": null,
   "metadata": {},
   "outputs": [],
   "source": [
    "#\n",
    "# 視覺化資料 任務 1：視覺化資料分佈 1. CompTotal（總薪酬）的箱型圖 使用箱型圖分析總薪酬的分佈和異常值。\n",
    "#"
   ]
  },
  {
   "cell_type": "code",
   "execution_count": null,
   "metadata": {},
   "outputs": [],
   "source": [
    "# \n",
    "import sqlite3\n",
    "import pandas as pd\n",
    "import matplotlib.pyplot as plt\n",
    "import seaborn as sns\n",
    "\n",
    "# Connect to the SQLite database\n",
    "conn = sqlite3.connect('survey-data.sqlite')\n",
    "\n",
    "# Query to get CompTotal\n",
    "QUERY = \"SELECT CompTotal FROM main WHERE CompTotal IS NOT NULL\"\n",
    "df = pd.read_sql_query(QUERY, conn)\n",
    "\n",
    "df"
   ]
  },
  {
   "cell_type": "code",
   "execution_count": null,
   "metadata": {},
   "outputs": [],
   "source": [
    "# Connect to the SQLite database\n",
    "conn = sqlite3.connect('survey-data.sqlite')\n",
    "\n",
    "# Query to get CompTotal\n",
    "QUERY = \"SELECT distinct CompTotal/100 FROM main WHERE CompTotal IS NOT NULL\"\n",
    "df = pd.read_sql_query(QUERY, conn)\n",
    "\n",
    "QUERY = \"SELECT MAX(CompTotal) FROM main WHERE CompTotal IS NOT NULL\"\n",
    "df = pd.read_sql_query(QUERY, conn)\n",
    "df\n",
    "\n",
    "QUERY = \"SELECT MIN(CompTotal) FROM main WHERE CompTotal IS NOT NULL\"\n",
    "df = pd.read_sql_query(QUERY, conn)\n",
    "df\n"
   ]
  },
  {
   "cell_type": "code",
   "execution_count": null,
   "metadata": {},
   "outputs": [],
   "source": [
    "# your code goes here\n",
    "\n",
    "import sqlite3\n",
    "import pandas as pd\n",
    "import matplotlib.pyplot as plt\n",
    "import seaborn as sns\n",
    "\n",
    "# Connect to the SQLite database\n",
    "conn = sqlite3.connect('survey-data.sqlite')\n",
    "\n",
    "# Query to get CompTotal\n",
    "QUERY = \"SELECT CompTotal FROM main WHERE CompTotal IS NOT NULL\"\n",
    "df = pd.read_sql_query(QUERY, conn)\n",
    "\n",
    "# Create box plot using seaborn\n",
    "plt.figure(figsize=(10, 6))\n",
    "sns.boxplot(y='CompTotal', data=df)\n",
    "plt.title('Box Plot of Total Compensation (CompTotal)')\n",
    "plt.ylabel('Total Compensation')\n",
    "plt.show()\n",
    "\n",
    "# Close the connection\n",
    "conn.close()"
   ]
  },
  {
   "cell_type": "markdown",
   "metadata": {},
   "source": [
    "**2. Box Plot of Age (converted to numeric values)**\n"
   ]
  },
  {
   "cell_type": "markdown",
   "metadata": {},
   "source": [
    "Convert the `Age` column into numerical values and visualize the distribution.\n"
   ]
  },
  {
   "cell_type": "code",
   "execution_count": null,
   "metadata": {},
   "outputs": [],
   "source": [
    "# your code goes here\n",
    "\n",
    "import sqlite3\n",
    "import pandas as pd\n",
    "import matplotlib.pyplot as plt\n",
    "import seaborn as sns\n",
    "\n",
    "# Connect to the SQLite database\n",
    "conn = sqlite3.connect('survey-data.sqlite')\n",
    "\n",
    "# Query to get Age\n",
    "QUERY = \"SELECT Age FROM main WHERE Age IS NOT NULL\"\n",
    "df = pd.read_sql_query(QUERY, conn)\n",
    "\n",
    "# Convert Age to numeric\n",
    "age_mapping = {\n",
    "    'Under 18 years old': 16,  # Approximate value\n",
    "    '18-24 years old': 21,\n",
    "    '25-34 years old': 30,\n",
    "    '35-44 years old': 40,\n",
    "    '45-54 years old': 50,\n",
    "    '55-64 years old': 60,\n",
    "    '65 years or older': 70  # Approximate value\n",
    "}\n",
    "\n",
    "df['Age_Numeric'] = df['Age'].map(age_mapping)\n",
    "\n",
    "# Remove rows with NaN (if any mapping failed)\n",
    "df = df.dropna(subset=['Age_Numeric'])\n",
    "\n",
    "# Create box plot using seaborn\n",
    "plt.figure(figsize=(10, 6))\n",
    "sns.boxplot(y='Age_Numeric', data=df)\n",
    "plt.title('Box Plot of Age (Numeric)')\n",
    "plt.ylabel('Age (Numeric)')\n",
    "plt.show()\n",
    "\n",
    "# Close the connection\n",
    "conn.close()"
   ]
  },
  {
   "cell_type": "markdown",
   "metadata": {},
   "source": [
    "### Task 2: Visualizing Relationships in Data\n"
   ]
  },
  {
   "cell_type": "markdown",
   "metadata": {},
   "source": [
    "**1. Box Plot of `CompTotal` Grouped by Age Groups:**\n"
   ]
  },
  {
   "cell_type": "markdown",
   "metadata": {},
   "source": [
    "Visualize the distribution of compensation across different age groups.\n"
   ]
  },
  {
   "cell_type": "code",
   "execution_count": null,
   "metadata": {},
   "outputs": [],
   "source": [
    "# Connect to the SQLite database\n",
    "conn = sqlite3.connect('survey-data.sqlite')\n",
    "\n",
    "# Query to get CompTotal and Age\n",
    "QUERY = \"\"\"\n",
    "SELECT CompTotal, Age\n",
    "FROM main\n",
    "WHERE CompTotal IS NOT NULL AND Age IN ('18-24 years old', '25-34 years old', '35-44 years old', '45-54 years old', '55-64 years old')\n",
    "\"\"\"\n",
    "df = pd.read_sql_query(QUERY, conn)\n",
    "\n",
    "df"
   ]
  },
  {
   "cell_type": "code",
   "execution_count": null,
   "metadata": {},
   "outputs": [],
   "source": [
    "df.head()"
   ]
  },
  {
   "cell_type": "code",
   "execution_count": null,
   "metadata": {},
   "outputs": [],
   "source": [
    "df.info()"
   ]
  },
  {
   "cell_type": "code",
   "execution_count": null,
   "metadata": {},
   "outputs": [],
   "source": [
    "# Connect to the SQLite database\n",
    "conn = sqlite3.connect('survey-data.sqlite')\n",
    "\n",
    "# Query to get CompTotal and Age\n",
    "QUERY = \"\"\"\n",
    "SELECT Age, CAST(CompTotal AS INTEGER), count(*) \n",
    "FROM main\n",
    "WHERE CompTotal IS NOT NULL AND Age IN ('18-24 years old', '25-34 years old', '35-44 years old', '45-54 years old', '55-64 years old')\n",
    "GROUP BY Age, CompTotal\n",
    "ORDER BY Age, CompTotal\n",
    "\"\"\"\n",
    "df = pd.read_sql_query(QUERY, conn)\n",
    "\n",
    "df"
   ]
  },
  {
   "cell_type": "code",
   "execution_count": null,
   "metadata": {},
   "outputs": [],
   "source": [
    "df.dtypes"
   ]
  },
  {
   "cell_type": "code",
   "execution_count": null,
   "metadata": {},
   "outputs": [],
   "source": [
    "df.info"
   ]
  },
  {
   "cell_type": "code",
   "execution_count": null,
   "metadata": {},
   "outputs": [],
   "source": []
  },
  {
   "cell_type": "code",
   "execution_count": null,
   "metadata": {},
   "outputs": [],
   "source": [
    "#\n",
    "#\n",
    "# Connect to the SQLite database\n",
    "conn = sqlite3.connect('survey-data.sqlite')\n",
    "\n",
    "# Query to get CompTotal and Age\n",
    "QUERY = \"\"\"\n",
    "SELECT Age, CompTotal, count(*) \n",
    "FROM main\n",
    "WHERE CompTotal IS NOT NULL AND Age IN ('18-24 years old', '25-34 years old', '35-44 years old', '45-54 years old', '55-64 years old')\n",
    "GROUP BY Age, CompTotal\n",
    "ORDER BY Age, CompTotal\n",
    "\"\"\"\n",
    "df = pd.read_sql_query(QUERY, conn)\n",
    "\n",
    "\n",
    "# Create box plot using seaborn\n",
    "plt.figure(figsize=(12, 6))\n",
    "sns.boxplot(x='Age', y='CompTotal', data=df)\n",
    "plt.title('Box Plot of CompTotal by Age Group')\n",
    "plt.xlabel('Age Group')\n",
    "plt.ylabel('Total Compensation')\n",
    "plt.xticks(rotation=90, ha='right')  # Rotate x-axis labels\n",
    "plt.tight_layout()\n",
    "plt.show()"
   ]
  },
  {
   "cell_type": "code",
   "execution_count": null,
   "metadata": {},
   "outputs": [],
   "source": [
    "import sqlite3\n",
    "import pandas as pd\n",
    "\n",
    "# Connect to the SQLite database\n",
    "conn = sqlite3.connect('survey-data.sqlite')\n",
    "\n",
    "# Query to get CompTotal\n",
    "QUERY = \"SELECT CompTotal FROM main LIMIT 10\" # get the first 10 rows.\n",
    "df = pd.read_sql_query(QUERY, conn)\n",
    "\n",
    "print(df) # print the dataframe.\n",
    "\n",
    "QUERY2 = \"PRAGMA table_info(main)\" # Get the schema.\n",
    "schema_df = pd.read_sql_query(QUERY2, conn)\n",
    "print(schema_df) # print the schema.\n",
    "\n",
    "conn.close()\n",
    "\n",
    "print(df['CompTotal'].describe()) # Describe the CompTotal column.\n",
    "print(df['CompTotal'].dtype) # Print the data type of CompTotal."
   ]
  },
  {
   "cell_type": "code",
   "execution_count": null,
   "metadata": {},
   "outputs": [],
   "source": [
    "# your code goes here\n",
    "\n",
    "import sqlite3\n",
    "import pandas as pd\n",
    "import matplotlib.pyplot as plt\n",
    "import seaborn as sns\n",
    "\n",
    "# Connect to the SQLite database\n",
    "conn = sqlite3.connect('survey-data.sqlite')\n",
    "\n",
    "# Query to get CompTotal and Age\n",
    "QUERY = \"\"\"\n",
    "SELECT CompTotal, Age\n",
    "FROM main\n",
    "WHERE CompTotal IS NOT NULL AND Age IN ('18-24 years old', '25-34 years old', '35-44 years old', '45-54 years old', '55-64 years old')\n",
    "\"\"\"\n",
    "df = pd.read_sql_query(QUERY, conn)\n",
    "\n",
    "# Create box plot using seaborn\n",
    "plt.figure(figsize=(12, 6))\n",
    "sns.boxplot(x='Age', y='CompTotal', data=df)\n",
    "plt.title('Box Plot of CompTotal by Age Group')\n",
    "plt.xlabel('Age Group')\n",
    "plt.ylabel('Total Compensation')\n",
    "plt.xticks(rotation=45, ha='right')  # Rotate x-axis labels\n",
    "plt.tight_layout()\n",
    "plt.show()\n",
    "\n",
    "# Close the connection\n",
    "conn.close()"
   ]
  },
  {
   "cell_type": "code",
   "execution_count": null,
   "metadata": {},
   "outputs": [],
   "source": [
    "# \n",
    "#\n",
    "#\n",
    "\n",
    "# Connect to the SQLite database\n",
    "conn = sqlite3.connect('survey-data.sqlite')\n",
    "\n",
    "# Query to get CompTotal and Age\n",
    "QUERY = \"\"\"\n",
    "SELECT CompTotal, Age\n",
    "FROM main\n",
    "WHERE CompTotal IS NOT NULL AND Age IN ('18-24 years old', '25-34 years old', '35-44 years old', '45-54 years old', '55-64 years old')\n",
    "\"\"\"\n",
    "df = pd.read_sql_query(QUERY, conn)\n",
    "\n",
    "# Create box plot using seaborn\n",
    "plt.figure(figsize=(12, 6))\n",
    "sns.boxplot(x='Age', y='CompTotal', data=df)\n",
    "plt.title('Box Plot of CompTotal by Age Group')\n",
    "plt.xlabel('Age Group')\n",
    "plt.ylabel('Total Compensation')\n",
    "plt.xticks(rotation=45, ha='right')  # Rotate x-axis labels\n",
    "plt.tight_layout()\n",
    "plt.show()\n",
    "\n",
    "# Close the connection\n",
    "conn.close()"
   ]
  },
  {
   "cell_type": "markdown",
   "metadata": {},
   "source": [
    "**2. Box Plot of `CompTotal` Grouped by Job Satisfaction (`JobSatPoints_6`):**\n"
   ]
  },
  {
   "cell_type": "markdown",
   "metadata": {},
   "source": [
    "Examine how compensation varies based on job satisfaction levels.\n"
   ]
  },
  {
   "cell_type": "code",
   "execution_count": null,
   "metadata": {},
   "outputs": [],
   "source": [
    "# your code goes here\n",
    "\n",
    "import sqlite3\n",
    "import pandas as pd\n",
    "import matplotlib.pyplot as plt\n",
    "import seaborn as sns\n",
    "\n",
    "# Connect to the SQLite database\n",
    "conn = sqlite3.connect('survey-data.sqlite')\n",
    "\n",
    "# Query to get CompTotal and JobSatPoints_6\n",
    "QUERY = \"\"\"\n",
    "SELECT CompTotal, JobSatPoints_6\n",
    "FROM main\n",
    "WHERE CompTotal IS NOT NULL AND JobSatPoints_6 IS NOT NULL\n",
    "\"\"\"\n",
    "df = pd.read_sql_query(QUERY, conn)\n",
    "\n",
    "# Create box plot using seaborn\n",
    "plt.figure(figsize=(12, 6))\n",
    "sns.boxplot(x='JobSatPoints_6', y='CompTotal', data=df)\n",
    "plt.title('Box Plot of CompTotal by Job Satisfaction (JobSatPoints_6)')\n",
    "plt.xlabel('Job Satisfaction (JobSatPoints_6)')\n",
    "plt.ylabel('Total Compensation')\n",
    "plt.show()\n",
    "\n",
    "# Close the connection\n",
    "conn.close()"
   ]
  },
  {
   "cell_type": "markdown",
   "metadata": {},
   "source": [
    "### Task 3: Visualizing the Composition of Data\n"
   ]
  },
  {
   "cell_type": "markdown",
   "metadata": {},
   "source": [
    "**1. Box Plot of `ConvertedCompYearly` for the Top 5 Developer Types:**\n"
   ]
  },
  {
   "cell_type": "markdown",
   "metadata": {},
   "source": [
    "Analyze compensation across the top 5 developer roles.\n"
   ]
  },
  {
   "cell_type": "code",
   "execution_count": null,
   "metadata": {},
   "outputs": [],
   "source": [
    "# your code goes here\n",
    "\n",
    "import sqlite3\n",
    "import pandas as pd\n",
    "import matplotlib.pyplot as plt\n",
    "import seaborn as sns\n",
    "\n",
    "# Connect to the SQLite database\n",
    "conn = sqlite3.connect('survey-data.sqlite')\n",
    "\n",
    "# Query to get ConvertedCompYearly and DevType\n",
    "QUERY = \"\"\"\n",
    "SELECT ConvertedCompYearly, DevType\n",
    "FROM main\n",
    "WHERE ConvertedCompYearly IS NOT NULL AND DevType IS NOT NULL\n",
    "\"\"\"\n",
    "df = pd.read_sql_query(QUERY, conn)\n",
    "\n",
    "# Split DevType and count occurrences\n",
    "dev_type_counts = pd.Series(\n",
    "    [dev.strip() for dev_types in df['DevType'].dropna()\n",
    "     for dev in dev_types.split(';')]\n",
    ").value_counts().nlargest(5)\n",
    "\n",
    "# Filter DataFrame for top 5 developer types\n",
    "top_dev_types = dev_type_counts.index.tolist()\n",
    "df_top_devs = df[df['DevType'].apply(lambda dev_types: any(dev.strip() in top_dev_types for dev in dev_types.split(';')))]\n",
    "\n",
    "# Create box plot using seaborn\n",
    "plt.figure(figsize=(14, 8))\n",
    "sns.boxplot(x='DevType', y='ConvertedCompYearly', data=df_top_devs)\n",
    "plt.title('Box Plot of ConvertedCompYearly for Top 5 Developer Types')\n",
    "plt.xlabel('Developer Type')\n",
    "plt.ylabel('Converted Compensation Yearly')\n",
    "plt.xticks(rotation=45, ha='right')\n",
    "plt.tight_layout()\n",
    "plt.show()\n",
    "\n",
    "# Close the connection\n",
    "conn.close()"
   ]
  },
  {
   "cell_type": "markdown",
   "metadata": {},
   "source": [
    "**2. Box Plot of `CompTotal` for the Top 5 Countries:**\n"
   ]
  },
  {
   "cell_type": "markdown",
   "metadata": {},
   "source": [
    "Analyze compensation across respondents from the top 5 countries.\n"
   ]
  },
  {
   "cell_type": "code",
   "execution_count": null,
   "metadata": {},
   "outputs": [],
   "source": [
    "# your code goes here"
   ]
  },
  {
   "cell_type": "markdown",
   "metadata": {},
   "source": [
    "### Task 4: Visualizing Comparison of Data\n"
   ]
  },
  {
   "cell_type": "markdown",
   "metadata": {},
   "source": [
    "**1. Box Plot of CompTotal Across Employment Types:**\n"
   ]
  },
  {
   "cell_type": "markdown",
   "metadata": {},
   "source": [
    "Analyze compensation for different employment types.\n"
   ]
  },
  {
   "cell_type": "code",
   "execution_count": null,
   "metadata": {},
   "outputs": [],
   "source": [
    "# your code goes here\n",
    "\n",
    "import sqlite3\n",
    "import pandas as pd\n",
    "import matplotlib.pyplot as plt\n",
    "import seaborn as sns\n",
    "\n",
    "# Connect to the SQLite database\n",
    "conn = sqlite3.connect('survey-data.sqlite')\n",
    "\n",
    "# Query to get CompTotal and Employment\n",
    "QUERY = \"\"\"\n",
    "SELECT CompTotal, Employment\n",
    "FROM main\n",
    "WHERE CompTotal IS NOT NULL AND Employment IS NOT NULL\n",
    "\"\"\"\n",
    "df = pd.read_sql_query(QUERY, conn)\n",
    "\n",
    "# Create box plot using seaborn\n",
    "plt.figure(figsize=(18, 8))\n",
    "sns.boxplot(x='Employment', y='CompTotal', data=df)\n",
    "plt.title('Box Plot of CompTotal Across Employment Types')\n",
    "plt.xlabel('Employment Type')\n",
    "plt.ylabel('Total Compensation')\n",
    "plt.xticks(rotation=45, ha='right')\n",
    "plt.tight_layout()\n",
    "plt.show()\n",
    "\n",
    "# Close the connection\n",
    "conn.close()"
   ]
  },
  {
   "cell_type": "markdown",
   "metadata": {},
   "source": [
    "**2. Box Plot of `YearsCodePro` by Job Satisfaction (`JobSatPoints_6`):**\n"
   ]
  },
  {
   "cell_type": "markdown",
   "metadata": {},
   "source": [
    "Examine the distribution of professional coding years by job satisfaction levels.\n"
   ]
  },
  {
   "cell_type": "code",
   "execution_count": null,
   "metadata": {},
   "outputs": [],
   "source": [
    "# your code goes here\n",
    "\n",
    "import sqlite3\n",
    "import pandas as pd\n",
    "import matplotlib.pyplot as plt\n",
    "import seaborn as sns\n",
    "\n",
    "# Connect to the SQLite database\n",
    "conn = sqlite3.connect('survey-data.sqlite')\n",
    "\n",
    "# Query to get YearsCodePro and JobSatPoints_6\n",
    "QUERY = \"\"\"\n",
    "SELECT YearsCodePro, JobSatPoints_6\n",
    "FROM main\n",
    "WHERE YearsCodePro IS NOT NULL AND JobSatPoints_6 IS NOT NULL\n",
    "AND YearsCodePro != 'Less than 1 year' AND YearsCodePro != 'More than 50 years'\n",
    "\"\"\"\n",
    "df = pd.read_sql_query(QUERY, conn)\n",
    "\n",
    "# Clean and convert 'YearsCodePro' to numeric\n",
    "def clean_years_code(years):\n",
    "    try:\n",
    "        return float(years)\n",
    "    except ValueError:\n",
    "        return None\n",
    "\n",
    "df['YearsCodePro'] = df['YearsCodePro'].apply(clean_years_code)\n",
    "df = df.dropna()\n",
    "\n",
    "# Create box plot using seaborn\n",
    "plt.figure(figsize=(14, 8))\n",
    "sns.boxplot(x='JobSatPoints_6', y='YearsCodePro', data=df)\n",
    "plt.title('Box Plot of YearsCodePro by Job Satisfaction (JobSatPoints_6)')\n",
    "plt.xlabel('Job Satisfaction (JobSatPoints_6)')\n",
    "plt.ylabel('Years of Professional Coding Experience')\n",
    "plt.show()\n",
    "\n",
    "# Close the connection\n",
    "conn.close()"
   ]
  },
  {
   "cell_type": "markdown",
   "metadata": {},
   "source": [
    "### Final Step: Close the Database Connection\n"
   ]
  },
  {
   "cell_type": "markdown",
   "metadata": {},
   "source": [
    "After completing the lab, close the connection to the SQLite database:\n"
   ]
  },
  {
   "cell_type": "code",
   "execution_count": null,
   "metadata": {},
   "outputs": [],
   "source": [
    "conn.close()"
   ]
  },
  {
   "cell_type": "markdown",
   "metadata": {},
   "source": [
    "## Summary\n"
   ]
  },
  {
   "cell_type": "markdown",
   "metadata": {},
   "source": [
    "In this lab, you used box plots to visualize various aspects of the dataset, focusing on:\n",
    "\n",
    "- Visualize distributions of compensation and age.\n",
    "\n",
    "- Explore relationships between compensation, job satisfaction, and professional coding experience.\n",
    "\n",
    "- Analyze data composition across developer roles and countries.\n",
    "\n",
    "- Compare compensation across employment types and satisfaction levels.\n",
    "\n",
    "Box plots provided clear insights into the spread, outliers, and central tendencies of various features in the dataset.\n"
   ]
  },
  {
   "cell_type": "markdown",
   "metadata": {},
   "source": [
    "## Authors:\n",
    "Ayushi Jain\n"
   ]
  },
  {
   "cell_type": "markdown",
   "metadata": {},
   "source": [
    "### Other Contributors:\n",
    "- Rav Ahuja\n",
    "- Lakshmi Holla\n",
    "- Malika\n"
   ]
  },
  {
   "cell_type": "markdown",
   "metadata": {},
   "source": [
    "<!--## Change Log\n",
    "|Date (YYYY-MM-DD)|Version|Changed By|Change Description|\n",
    "|-|-|-|-|               \n",
    "|2024-10-07|1.2|Madhusudan Moole|Reviewed and updated lab|                                                                                      \n",
    "|2024-10-06|1.0|Raghul Ramesh|Created lab|-->\n"
   ]
  },
  {
   "cell_type": "markdown",
   "metadata": {},
   "source": [
    "Copyright © IBM Corporation. All rights reserved.\n"
   ]
  }
 ],
 "metadata": {
  "kernelspec": {
   "display_name": "Python 3 (ipykernel)",
   "language": "python",
   "name": "python3"
  },
  "language_info": {
   "codemirror_mode": {
    "name": "ipython",
    "version": 3
   },
   "file_extension": ".py",
   "mimetype": "text/x-python",
   "name": "python",
   "nbconvert_exporter": "python",
   "pygments_lexer": "ipython3",
   "version": "3.12.8"
  },
  "prev_pub_hash": "ef55dde315696b09b8216b324b3988d2b2b16efccbe3b64dab69d537a82aa9d6"
 },
 "nbformat": 4,
 "nbformat_minor": 4
}
