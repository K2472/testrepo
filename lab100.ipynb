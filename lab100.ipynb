{
 "cells": [
  {
   "cell_type": "code",
   "execution_count": 1,
   "id": "e126c762-e427-4cad-84ab-39c08d7694b8",
   "metadata": {
    "tags": []
   },
   "outputs": [],
   "source": [
    "import requests # you need this module to make an API call\n",
    "import pandas as pd"
   ]
  },
  {
   "cell_type": "code",
   "execution_count": 2,
   "id": "02775104-7658-4b6d-8c75-dcab0f50530b",
   "metadata": {
    "tags": []
   },
   "outputs": [],
   "source": [
    "api_url = \"http://api.open-notify.org/astros.json\" # this url gives use the astronaut data"
   ]
  },
  {
   "cell_type": "code",
   "execution_count": 3,
   "id": "cec5876b-9257-4658-9c54-94932def0d56",
   "metadata": {
    "tags": []
   },
   "outputs": [],
   "source": [
    "response = requests.get(api_url) # Call the API using the get method and store the\n",
    "                                # output of the API call in a variable called response."
   ]
  },
  {
   "cell_type": "code",
   "execution_count": 4,
   "id": "fd470e59-8e57-4e1a-b0ed-c96442fee10f",
   "metadata": {
    "tags": []
   },
   "outputs": [],
   "source": [
    "if response.ok:             # if all is well() no errors, no network timeouts)\n",
    "    data = response.json()  # store the result in json format in a variable called data\n",
    "                            # the variable data is of type dictionary."
   ]
  },
  {
   "cell_type": "code",
   "execution_count": 5,
   "id": "68454cae-d9ce-4333-9dd9-f94ce82659e8",
   "metadata": {
    "tags": []
   },
   "outputs": [
    {
     "name": "stdout",
     "output_type": "stream",
     "text": [
      "{'people': [{'craft': 'ISS', 'name': 'Oleg Kononenko'}, {'craft': 'ISS', 'name': 'Nikolai Chub'}, {'craft': 'ISS', 'name': 'Tracy Caldwell Dyson'}, {'craft': 'ISS', 'name': 'Matthew Dominick'}, {'craft': 'ISS', 'name': 'Michael Barratt'}, {'craft': 'ISS', 'name': 'Jeanette Epps'}, {'craft': 'ISS', 'name': 'Alexander Grebenkin'}, {'craft': 'ISS', 'name': 'Butch Wilmore'}, {'craft': 'ISS', 'name': 'Sunita Williams'}, {'craft': 'Tiangong', 'name': 'Li Guangsu'}, {'craft': 'Tiangong', 'name': 'Li Cong'}, {'craft': 'Tiangong', 'name': 'Ye Guangfu'}], 'number': 12, 'message': 'success'}\n"
     ]
    }
   ],
   "source": [
    "print(data)   # print the data just to check the output or for debugging"
   ]
  },
  {
   "cell_type": "code",
   "execution_count": 6,
   "id": "a879bf6d-8b98-47f4-a322-3084dd546ab5",
   "metadata": {
    "tags": []
   },
   "outputs": [
    {
     "name": "stdout",
     "output_type": "stream",
     "text": [
      "12\n"
     ]
    }
   ],
   "source": [
    "print(data.get('number'))"
   ]
  },
  {
   "cell_type": "code",
   "execution_count": 7,
   "id": "2ff73dea-373d-4edf-82da-8ad654d5972a",
   "metadata": {
    "tags": []
   },
   "outputs": [],
   "source": [
    "# Lab: Collect Jobs Data using Jobs API\n",
    "# Objective: Determine the number of jobs currently open for various technologies and for various locations\n",
    "# Collect the number of job postings for the following locations using the API:\n",
    "#\n",
    "# Los Angeles\n",
    "# New York\n",
    "# San Francisco\n",
    "# Washington DC\n",
    "# Seattle\n",
    "# Austin\n",
    "# Detroit\n",
    "\n",
    "# 實驗室：使用 Jobs API 收集作業數據\n",
    "# 目標：確定目前針對不同技術和不同地點開放的職位數量\n",
    "# 使用 API 收集以下位置的職位發布數量：\n",
    "#\n",
    "# 洛杉磯\n",
    "# 紐約\n",
    "# 舊金山\n",
    "# 華盛頓特區\n",
    "# 西雅圖\n",
    "# 奧斯汀\n",
    "# 底特律"
   ]
  },
  {
   "cell_type": "code",
   "execution_count": 8,
   "id": "be9a2845-9d02-4b8e-a842-587afd24b2a8",
   "metadata": {
    "tags": []
   },
   "outputs": [],
   "source": [
    "#Import required libraries\n",
    "import pandas as pd\n",
    "import json\n"
   ]
  },
  {
   "cell_type": "code",
   "execution_count": 9,
   "id": "2e65bbb4-b9d4-4cb0-a7df-d75f9195773c",
   "metadata": {
    "tags": []
   },
   "outputs": [],
   "source": [
    "# Write a function to get the number of jobs for the Python technology.\n",
    "# Note: While using the lab you need to pass the payload information for the params attribute\n",
    "# in the form of key value pairs. Refer the ungraded rest api lab in the course Python for Data Science, \n",
    "# AI & Development link\n",
    "# \n",
    "# The keys in the json are\n",
    "# Job Title\n",
    "# Job Experience Required\n",
    "# Key Skills\n",
    "# Role Category\n",
    "# Location\n",
    "# Functional Area\n",
    "# Industry\n",
    "# Role\n",
    "# \n",
    "# You can also view the json file contents from the following json URL."
   ]
  },
  {
   "cell_type": "code",
   "execution_count": 10,
   "id": "bf7053b2-786d-4ee3-8a3e-919f4d533724",
   "metadata": {
    "tags": []
   },
   "outputs": [],
   "source": [
    "baseurl = \"https://cf-courses-data.s3.us.cloud-object-storage.appdomain.cloud/IBM-DA0321EN-SkillsNetwork/labs/module%201/datasets/githubposting.json\"\n",
    "response = requests.get(baseurl)"
   ]
  },
  {
   "cell_type": "code",
   "execution_count": 11,
   "id": "64801b38-96f6-4dc7-8e9d-9b099751a1ba",
   "metadata": {
    "tags": []
   },
   "outputs": [],
   "source": [
    "resp = requests.get(baseurl)"
   ]
  },
  {
   "cell_type": "code",
   "execution_count": null,
   "id": "018432ab-0946-4a9b-8d65-9adbdd180376",
   "metadata": {},
   "outputs": [],
   "source": [
    "# Write a function to get the number of jobs for the given technology.\n",
    "# Note: The API gives a maximum of 50 jobs per page.\n",
    "# If you get 50 jobs per page, it means there could be some more job listings available.\n",
    "# So if you get 50 jobs per page you should make another API call for next page to check for more jobs.\n",
    "# If you get less than 50 jobs per page, you can take it as the final count."
   ]
  },
  {
   "cell_type": "code",
   "execution_count": 12,
   "id": "03605193-7e81-4ea7-9623-a839117ecf59",
   "metadata": {
    "tags": []
   },
   "outputs": [],
   "source": [
    "def get_number_of_jobs(technology):\n",
    "    number_of_jobs = 0\n",
    "    #your code goes here\n",
    "    for tech in technology:\n",
    "        number_of_jobs = number_of_jobs + 1\n",
    "    return technology,number_of_jobs\n"
   ]
  },
  {
   "cell_type": "code",
   "execution_count": 16,
   "id": "65a57dc6-af2b-40f0-b85b-1c104f746621",
   "metadata": {
    "tags": []
   },
   "outputs": [
    {
     "name": "stdout",
     "output_type": "stream",
     "text": [
      "('python', 6)\n"
     ]
    }
   ],
   "source": [
    "# Call the function for Python and check if it is working.\n",
    "#\n",
    "\n",
    "print(get_number_of_jobs('python'))"
   ]
  },
  {
   "cell_type": "code",
   "execution_count": 18,
   "id": "5277f71b-8a72-4526-a4b6-b67afb842de7",
   "metadata": {
    "tags": []
   },
   "outputs": [
    {
     "name": "stdout",
     "output_type": "stream",
     "text": [
      "{'technology': {'0': 'java', '1': 'C', '2': 'C#', '3': 'C++', '4': 'Java', '5': 'JavaScript', '6': 'Python', '7': 'Scala', '8': 'Oracle', '9': 'SQL Server', '10': 'MySQL Server', '11': 'PostgreSQL', '12': 'MongoDB', '13': 'java', '14': 'C', '15': 'C#', '16': 'C++', '17': 'Java', '18': 'JavaScript', '19': 'Python', '20': 'Scala', '21': 'Oracle', '22': 'SQL Server', '23': 'MySQL Server', '24': 'PostgreSQL', '25': 'MongoDB', '26': 'C', '27': 'MySQL Server', '28': 'SQL Server', '29': 'PostgreSQL', '30': 'Java', '31': 'PostgreSQL', '32': 'Java', '33': 'C', '34': 'MongoDB', '35': 'Oracle', '36': 'PostgreSQL', '37': 'MongoDB', '38': 'MySQL Server', '39': 'Java', '40': 'JavaScript', '41': 'Python', '42': 'C', '43': 'MongoDB', '44': 'MySQL Server', '45': 'PostgreSQL', '46': 'Oracle', '47': 'Java', '48': 'JavaScript', '49': 'Java', '50': 'Java', '51': 'MySQL Server', '52': 'C++', '53': 'JavaScript', '54': 'MySQL Server', '55': 'PostgreSQL', '56': 'PostgreSQL', '57': 'Java', '58': 'Java', '59': 'C#', '60': 'Python', '61': 'SQL Server', '62': 'MySQL Server', '63': 'Java', '64': 'MySQL Server', '65': 'PostgreSQL', '66': 'Java', '67': 'C#', '68': 'PostgreSQL', '69': 'Oracle', '70': 'C#', '71': 'C#', '72': 'PostgreSQL', '73': 'Java', '74': 'JavaScript', '75': 'Java', '76': 'Oracle', '77': 'MySQL Server', '78': 'MySQL Server', '79': 'MySQL Server', '80': 'Java', '81': 'Java', '82': 'Oracle', '83': 'JavaScript', '84': 'PostgreSQL', '85': 'MongoDB', '86': 'Java', '87': 'MongoDB', '88': 'JavaScript', '89': 'C++', '90': 'Oracle', '91': 'MongoDB', '92': 'SQL Server', '93': 'C++', '94': 'Oracle', '95': 'JavaScript', '96': 'Java', '97': 'java', '98': 'MongoDB', '99': 'C#', '100': 'MySQL Server', '101': 'PostgreSQL', '102': 'MongoDB', '103': 'java', '104': 'Python', '105': 'Java', '106': 'MongoDB', '107': 'MongoDB', '108': 'C++', '109': 'MySQL Server', '110': 'Java', '111': 'PostgreSQL', '112': 'Python', '113': 'java', '114': 'SQL Server', '115': 'Java', '116': 'Python', '117': 'JavaScript', '118': 'PostgreSQL', '119': 'PostgreSQL', '120': 'C++', '121': 'MySQL Server', '122': 'MongoDB', '123': 'C#', '124': 'PostgreSQL', '125': 'PostgreSQL', '126': 'C++', '127': 'Oracle', '128': 'Python', '129': 'JavaScript', '130': 'MongoDB', '131': 'PostgreSQL', '132': 'MySQL Server', '133': 'C#', '134': 'MySQL Server', '135': 'PostgreSQL', '136': 'PostgreSQL', '137': 'MySQL Server', '138': 'Scala', '139': 'C++', '140': 'MongoDB', '141': 'C++', '142': 'MongoDB', '143': 'Java', '144': 'Java', '145': 'java', '146': 'SQL Server', '147': 'Python', '148': 'java', '149': 'SQL Server', '150': 'JavaScript', '151': 'JavaScript', '152': 'C#', '153': 'JavaScript', '154': 'Java', '155': 'PostgreSQL', '156': 'PostgreSQL', '157': 'Java', '158': 'C++', '159': 'JavaScript', '160': 'Java', '161': 'Oracle', '162': 'Python', '163': 'Oracle', '164': 'java', '165': 'C#', '166': 'Java', '167': 'PostgreSQL', '168': 'PostgreSQL', '169': 'Python', '170': 'Java', '171': 'MySQL Server', '172': 'C#', '173': 'Python', '174': 'Python', '175': 'SQL Server', '176': 'MongoDB', '177': 'Java', '178': 'C#', '179': 'MongoDB', '180': 'Oracle', '181': 'Python', '182': 'Scala', '183': 'PostgreSQL', '184': 'Scala', '185': 'C#', '186': 'Java', '187': 'Java', '188': 'C++', '189': 'Python', '190': 'MongoDB', '191': 'Java', '192': 'MongoDB', '193': 'C++', '194': 'PostgreSQL', '195': 'Java', '196': 'C#', '197': 'MySQL Server', '198': 'Oracle', '199': 'Java', '200': 'Java', '201': 'MongoDB', '202': 'Python', '203': 'SQL Server', '204': 'C', '205': 'Oracle', '206': 'Python', '207': 'Python', '208': 'MongoDB', '209': 'Scala', '210': 'PostgreSQL', '211': 'Oracle', '212': 'Java', '213': 'MongoDB', '214': 'C', '215': 'MongoDB', '216': 'Oracle', '217': 'Python', '218': 'Java', '219': 'MySQL Server', '220': 'JavaScript', '221': 'PostgreSQL', '222': 'Oracle', '223': 'Python', '224': 'Python', '225': 'JavaScript', '226': 'MongoDB', '227': 'Java', '228': 'MySQL Server', '229': 'JavaScript', '230': 'Java', '231': 'Oracle', '232': 'JavaScript', '233': 'PostgreSQL', '234': 'MySQL Server', '235': 'MySQL Server', '236': 'Oracle', '237': 'Scala', '238': 'Java', '239': 'C#', '240': 'Oracle', '241': 'Oracle', '242': 'java', '243': 'PostgreSQL', '244': 'MongoDB', '245': 'PostgreSQL', '246': 'MongoDB', '247': 'Scala', '248': 'MySQL Server', '249': 'Oracle', '250': 'Java', '251': 'C#', '252': 'PostgreSQL', '253': 'MongoDB', '254': 'Scala', '255': 'JavaScript'}, 'number of job posting': {'0': '1', '1': '10', '2': '1', '3': '1', '4': '2', '5': '4', '6': '1', '7': '5', '8': '0', '9': '1', '10': '0', '11': '1', '12': '0', '13': '1', '14': '20', '15': '2', '16': '3', '17': '2', '18': '3', '19': '2', '20': '7', '21': '0', '22': '1', '23': '0', '24': '1', '25': '0', '26': '26', '27': '0', '28': '1', '29': '0', '30': '2', '31': '0', '32': '2', '33': '15', '34': '0', '35': '1', '36': '0', '37': '1', '38': '0', '39': '1', '40': '2', '41': '5', '42': '40', '43': '1', '44': '0', '45': '0', '46': '1', '47': '6', '48': '4', '49': '8', '50': '1', '51': '0', '52': '2', '53': '4', '54': '0', '55': '1', '56': '1', '57': '2', '58': '3', '59': '1', '60': '2', '61': '2', '62': '1', '63': '1', '64': '1', '65': '0', '66': '1', '67': '0', '68': '0', '69': '1', '70': '1', '71': '0', '72': '0', '73': '2', '74': '2', '75': '1', '76': '0', '77': '1', '78': '0', '79': '0', '80': '2', '81': '3', '82': '0', '83': '5', '84': '0', '85': '2', '86': '2', '87': '2', '88': '3', '89': '2', '90': '0', '91': '1', '92': '1', '93': '2', '94': '0', '95': '2', '96': '2', '97': '1', '98': '1', '99': '0', '100': '0', '101': '0', '102': '1', '103': '2', '104': '7', '105': '1', '106': '1', '107': '0', '108': '2', '109': '1', '110': '2', '111': '0', '112': '2', '113': '1', '114': '2', '115': '2', '116': '2', '117': '3', '118': '0', '119': '1', '120': '2', '121': '0', '122': '1', '123': '1', '124': '1', '125': '1', '126': '2', '127': '0', '128': '1', '129': '3', '130': '0', '131': '0', '132': '0', '133': '1', '134': '1', '135': '0', '136': '0', '137': '0', '138': '5', '139': '1', '140': '0', '141': '2', '142': '0', '143': '1', '144': '2', '145': '1', '146': '4', '147': '1', '148': '1', '149': '2', '150': '5', '151': '2', '152': '1', '153': '3', '154': '1', '155': '1', '156': '1', '157': '2', '158': '1', '159': '3', '160': '3', '161': '0', '162': '2', '163': '0', '164': '0', '165': '1', '166': '1', '167': '1', '168': '0', '169': '3', '170': '2', '171': '0', '172': '1', '173': '3', '174': '1', '175': '1', '176': '1', '177': '2', '178': '1', '179': '1', '180': '1', '181': '3', '182': '6', '183': '0', '184': '4', '185': '0', '186': '1', '187': '2', '188': '2', '189': '2', '190': '1', '191': '1', '192': '0', '193': '2', '194': '1', '195': '1', '196': '1', '197': '0', '198': '1', '199': '1', '200': '1', '201': '0', '202': '2', '203': '1', '204': '20', '205': '0', '206': '1', '207': '4', '208': '0', '209': '7', '210': '1', '211': '0', '212': '1', '213': '0', '214': '53', '215': '0', '216': '0', '217': '3', '218': '6', '219': '0', '220': '6', '221': '1', '222': '0', '223': '2', '224': '2', '225': '5', '226': '1', '227': '3', '228': '1', '229': '1', '230': '1', '231': '1', '232': '2', '233': '1', '234': '0', '235': '0', '236': '1', '237': '3', '238': '2', '239': '1', '240': '1', '241': '0', '242': '1', '243': '1', '244': '1', '245': '1', '246': '1', '247': '8', '248': '1', '249': '0', '250': '1', '251': '1', '252': '1', '253': '1', '254': '2', '255': '3'}}\n"
     ]
    }
   ],
   "source": [
    "if response.ok:             # if all is well() no errors, no network timeouts)\n",
    "    data = response.json()\n",
    "print(data)   "
   ]
  },
  {
   "cell_type": "code",
   "execution_count": 14,
   "id": "d91dcec0-de3c-4725-a63d-676cc6b96125",
   "metadata": {
    "tags": []
   },
   "outputs": [
    {
     "data": {
      "text/plain": [
       "<Response [200]>"
      ]
     },
     "execution_count": 14,
     "metadata": {},
     "output_type": "execute_result"
    }
   ],
   "source": [
    "for resp in techonlogy:\n",
    "    print(tech\n"
   ]
  },
  {
   "cell_type": "code",
   "execution_count": null,
   "id": "a5c863bb-5cb2-4818-80b0-362cdf0b8c35",
   "metadata": {},
   "outputs": [],
   "source": [
    "#\n",
    "# case 2\n",
    "#"
   ]
  },
  {
   "cell_type": "code",
   "execution_count": 21,
   "id": "38897c19-ea8b-4f35-b7e2-06e612b43ef2",
   "metadata": {
    "tags": []
   },
   "outputs": [
    {
     "name": "stdout",
     "output_type": "stream",
     "text": [
      "{'technology': {'0': 'java', '1': 'C', '2': 'C#', '3': 'C++', '4': 'Java', '5': 'JavaScript', '6': 'Python', '7': 'Scala', '8': 'Oracle', '9': 'SQL Server', '10': 'MySQL Server', '11': 'PostgreSQL', '12': 'MongoDB', '13': 'java', '14': 'C', '15': 'C#', '16': 'C++', '17': 'Java', '18': 'JavaScript', '19': 'Python', '20': 'Scala', '21': 'Oracle', '22': 'SQL Server', '23': 'MySQL Server', '24': 'PostgreSQL', '25': 'MongoDB', '26': 'C', '27': 'MySQL Server', '28': 'SQL Server', '29': 'PostgreSQL', '30': 'Java', '31': 'PostgreSQL', '32': 'Java', '33': 'C', '34': 'MongoDB', '35': 'Oracle', '36': 'PostgreSQL', '37': 'MongoDB', '38': 'MySQL Server', '39': 'Java', '40': 'JavaScript', '41': 'Python', '42': 'C', '43': 'MongoDB', '44': 'MySQL Server', '45': 'PostgreSQL', '46': 'Oracle', '47': 'Java', '48': 'JavaScript', '49': 'Java', '50': 'Java', '51': 'MySQL Server', '52': 'C++', '53': 'JavaScript', '54': 'MySQL Server', '55': 'PostgreSQL', '56': 'PostgreSQL', '57': 'Java', '58': 'Java', '59': 'C#', '60': 'Python', '61': 'SQL Server', '62': 'MySQL Server', '63': 'Java', '64': 'MySQL Server', '65': 'PostgreSQL', '66': 'Java', '67': 'C#', '68': 'PostgreSQL', '69': 'Oracle', '70': 'C#', '71': 'C#', '72': 'PostgreSQL', '73': 'Java', '74': 'JavaScript', '75': 'Java', '76': 'Oracle', '77': 'MySQL Server', '78': 'MySQL Server', '79': 'MySQL Server', '80': 'Java', '81': 'Java', '82': 'Oracle', '83': 'JavaScript', '84': 'PostgreSQL', '85': 'MongoDB', '86': 'Java', '87': 'MongoDB', '88': 'JavaScript', '89': 'C++', '90': 'Oracle', '91': 'MongoDB', '92': 'SQL Server', '93': 'C++', '94': 'Oracle', '95': 'JavaScript', '96': 'Java', '97': 'java', '98': 'MongoDB', '99': 'C#', '100': 'MySQL Server', '101': 'PostgreSQL', '102': 'MongoDB', '103': 'java', '104': 'Python', '105': 'Java', '106': 'MongoDB', '107': 'MongoDB', '108': 'C++', '109': 'MySQL Server', '110': 'Java', '111': 'PostgreSQL', '112': 'Python', '113': 'java', '114': 'SQL Server', '115': 'Java', '116': 'Python', '117': 'JavaScript', '118': 'PostgreSQL', '119': 'PostgreSQL', '120': 'C++', '121': 'MySQL Server', '122': 'MongoDB', '123': 'C#', '124': 'PostgreSQL', '125': 'PostgreSQL', '126': 'C++', '127': 'Oracle', '128': 'Python', '129': 'JavaScript', '130': 'MongoDB', '131': 'PostgreSQL', '132': 'MySQL Server', '133': 'C#', '134': 'MySQL Server', '135': 'PostgreSQL', '136': 'PostgreSQL', '137': 'MySQL Server', '138': 'Scala', '139': 'C++', '140': 'MongoDB', '141': 'C++', '142': 'MongoDB', '143': 'Java', '144': 'Java', '145': 'java', '146': 'SQL Server', '147': 'Python', '148': 'java', '149': 'SQL Server', '150': 'JavaScript', '151': 'JavaScript', '152': 'C#', '153': 'JavaScript', '154': 'Java', '155': 'PostgreSQL', '156': 'PostgreSQL', '157': 'Java', '158': 'C++', '159': 'JavaScript', '160': 'Java', '161': 'Oracle', '162': 'Python', '163': 'Oracle', '164': 'java', '165': 'C#', '166': 'Java', '167': 'PostgreSQL', '168': 'PostgreSQL', '169': 'Python', '170': 'Java', '171': 'MySQL Server', '172': 'C#', '173': 'Python', '174': 'Python', '175': 'SQL Server', '176': 'MongoDB', '177': 'Java', '178': 'C#', '179': 'MongoDB', '180': 'Oracle', '181': 'Python', '182': 'Scala', '183': 'PostgreSQL', '184': 'Scala', '185': 'C#', '186': 'Java', '187': 'Java', '188': 'C++', '189': 'Python', '190': 'MongoDB', '191': 'Java', '192': 'MongoDB', '193': 'C++', '194': 'PostgreSQL', '195': 'Java', '196': 'C#', '197': 'MySQL Server', '198': 'Oracle', '199': 'Java', '200': 'Java', '201': 'MongoDB', '202': 'Python', '203': 'SQL Server', '204': 'C', '205': 'Oracle', '206': 'Python', '207': 'Python', '208': 'MongoDB', '209': 'Scala', '210': 'PostgreSQL', '211': 'Oracle', '212': 'Java', '213': 'MongoDB', '214': 'C', '215': 'MongoDB', '216': 'Oracle', '217': 'Python', '218': 'Java', '219': 'MySQL Server', '220': 'JavaScript', '221': 'PostgreSQL', '222': 'Oracle', '223': 'Python', '224': 'Python', '225': 'JavaScript', '226': 'MongoDB', '227': 'Java', '228': 'MySQL Server', '229': 'JavaScript', '230': 'Java', '231': 'Oracle', '232': 'JavaScript', '233': 'PostgreSQL', '234': 'MySQL Server', '235': 'MySQL Server', '236': 'Oracle', '237': 'Scala', '238': 'Java', '239': 'C#', '240': 'Oracle', '241': 'Oracle', '242': 'java', '243': 'PostgreSQL', '244': 'MongoDB', '245': 'PostgreSQL', '246': 'MongoDB', '247': 'Scala', '248': 'MySQL Server', '249': 'Oracle', '250': 'Java', '251': 'C#', '252': 'PostgreSQL', '253': 'MongoDB', '254': 'Scala', '255': 'JavaScript'}, 'number of job posting': {'0': '1', '1': '10', '2': '1', '3': '1', '4': '2', '5': '4', '6': '1', '7': '5', '8': '0', '9': '1', '10': '0', '11': '1', '12': '0', '13': '1', '14': '20', '15': '2', '16': '3', '17': '2', '18': '3', '19': '2', '20': '7', '21': '0', '22': '1', '23': '0', '24': '1', '25': '0', '26': '26', '27': '0', '28': '1', '29': '0', '30': '2', '31': '0', '32': '2', '33': '15', '34': '0', '35': '1', '36': '0', '37': '1', '38': '0', '39': '1', '40': '2', '41': '5', '42': '40', '43': '1', '44': '0', '45': '0', '46': '1', '47': '6', '48': '4', '49': '8', '50': '1', '51': '0', '52': '2', '53': '4', '54': '0', '55': '1', '56': '1', '57': '2', '58': '3', '59': '1', '60': '2', '61': '2', '62': '1', '63': '1', '64': '1', '65': '0', '66': '1', '67': '0', '68': '0', '69': '1', '70': '1', '71': '0', '72': '0', '73': '2', '74': '2', '75': '1', '76': '0', '77': '1', '78': '0', '79': '0', '80': '2', '81': '3', '82': '0', '83': '5', '84': '0', '85': '2', '86': '2', '87': '2', '88': '3', '89': '2', '90': '0', '91': '1', '92': '1', '93': '2', '94': '0', '95': '2', '96': '2', '97': '1', '98': '1', '99': '0', '100': '0', '101': '0', '102': '1', '103': '2', '104': '7', '105': '1', '106': '1', '107': '0', '108': '2', '109': '1', '110': '2', '111': '0', '112': '2', '113': '1', '114': '2', '115': '2', '116': '2', '117': '3', '118': '0', '119': '1', '120': '2', '121': '0', '122': '1', '123': '1', '124': '1', '125': '1', '126': '2', '127': '0', '128': '1', '129': '3', '130': '0', '131': '0', '132': '0', '133': '1', '134': '1', '135': '0', '136': '0', '137': '0', '138': '5', '139': '1', '140': '0', '141': '2', '142': '0', '143': '1', '144': '2', '145': '1', '146': '4', '147': '1', '148': '1', '149': '2', '150': '5', '151': '2', '152': '1', '153': '3', '154': '1', '155': '1', '156': '1', '157': '2', '158': '1', '159': '3', '160': '3', '161': '0', '162': '2', '163': '0', '164': '0', '165': '1', '166': '1', '167': '1', '168': '0', '169': '3', '170': '2', '171': '0', '172': '1', '173': '3', '174': '1', '175': '1', '176': '1', '177': '2', '178': '1', '179': '1', '180': '1', '181': '3', '182': '6', '183': '0', '184': '4', '185': '0', '186': '1', '187': '2', '188': '2', '189': '2', '190': '1', '191': '1', '192': '0', '193': '2', '194': '1', '195': '1', '196': '1', '197': '0', '198': '1', '199': '1', '200': '1', '201': '0', '202': '2', '203': '1', '204': '20', '205': '0', '206': '1', '207': '4', '208': '0', '209': '7', '210': '1', '211': '0', '212': '1', '213': '0', '214': '53', '215': '0', '216': '0', '217': '3', '218': '6', '219': '0', '220': '6', '221': '1', '222': '0', '223': '2', '224': '2', '225': '5', '226': '1', '227': '3', '228': '1', '229': '1', '230': '1', '231': '1', '232': '2', '233': '1', '234': '0', '235': '0', '236': '1', '237': '3', '238': '2', '239': '1', '240': '1', '241': '0', '242': '1', '243': '1', '244': '1', '245': '1', '246': '1', '247': '8', '248': '1', '249': '0', '250': '1', '251': '1', '252': '1', '253': '1', '254': '2', '255': '3'}}\n"
     ]
    }
   ],
   "source": [
    "import requests\n",
    "baseurl = \"https://cf-courses-data.s3.us.cloud-object-storage.appdomain.cloud/IBM-DA0321EN-SkillsNetwork/labs/module%201/datasets/githubposting.json\"\n",
    "response = requests.get(baseurl)\n",
    "if response.ok:             \n",
    "    data = response.json()\n",
    "print(data)"
   ]
  },
  {
   "cell_type": "code",
   "execution_count": 22,
   "id": "2581535b-6d20-4258-9d7b-8777d73f7059",
   "metadata": {
    "tags": []
   },
   "outputs": [
    {
     "ename": "AttributeError",
     "evalue": "'dict' object has no attribute 'groupby'",
     "output_type": "error",
     "traceback": [
      "\u001b[0;31m---------------------------------------------------------------------------\u001b[0m",
      "\u001b[0;31mAttributeError\u001b[0m                            Traceback (most recent call last)",
      "\u001b[0;32m/tmp/ipykernel_630/2232127038.py\u001b[0m in \u001b[0;36m<module>\u001b[0;34m\u001b[0m\n\u001b[0;32m----> 1\u001b[0;31m \u001b[0mnumber_of_jobs\u001b[0m\u001b[0;34m=\u001b[0m\u001b[0mdata\u001b[0m\u001b[0;34m.\u001b[0m\u001b[0mgroupby\u001b[0m\u001b[0;34m(\u001b[0m\u001b[0;34m'technology'\u001b[0m\u001b[0;34m)\u001b[0m\u001b[0;34m.\u001b[0m\u001b[0msum\u001b[0m\u001b[0;34m(\u001b[0m\u001b[0;34m)\u001b[0m\u001b[0;34m.\u001b[0m\u001b[0mloc\u001b[0m\u001b[0;34m[\u001b[0m\u001b[0mtechnology\u001b[0m\u001b[0;34m,\u001b[0m\u001b[0;34m:\u001b[0m\u001b[0;34m]\u001b[0m\u001b[0;34m[\u001b[0m\u001b[0;36m0\u001b[0m\u001b[0;34m]\u001b[0m\u001b[0;34m\u001b[0m\u001b[0;34m\u001b[0m\u001b[0m\n\u001b[0m",
      "\u001b[0;31mAttributeError\u001b[0m: 'dict' object has no attribute 'groupby'"
     ]
    }
   ],
   "source": [
    "number_of_jobs=data.groupby('technology').sum().loc[technology,:][0]\n"
   ]
  },
  {
   "cell_type": "code",
   "execution_count": null,
   "id": "c7041caf-7b5c-4d46-b45d-04fdb99c177b",
   "metadata": {},
   "outputs": [],
   "source": [
    "#\n",
    "# case 3\n",
    "# \n",
    "# The AttributeError: 'dict' object has no attribute 'groupby' error occurs \n",
    "# because you are trying to use the groupby method on a dictionary object. \n",
    "# The groupby method is a feature of Pandas DataFrames, not dictionaries.\n",
    "\n",
    "# To resolve this error, you need to ensure that data is a Pandas DataFrame \n",
    "# before you attempt to use groupby. \n",
    "# Here's how you can convert a dictionary to a DataFrame and then use groupby:"
   ]
  },
  {
   "cell_type": "code",
   "execution_count": 24,
   "id": "2adec7a5-c841-4f95-8121-c2b93a34d562",
   "metadata": {
    "tags": []
   },
   "outputs": [],
   "source": [
    "import pandas as pd\n",
    "\n",
    "# Assuming 'data' is a dictionary, convert it to a DataFrame\n",
    "data_df = pd.DataFrame(data)\n"
   ]
  },
  {
   "cell_type": "code",
   "execution_count": 25,
   "id": "b29100f7-879f-47a0-9e99-1310b6ed826b",
   "metadata": {
    "tags": []
   },
   "outputs": [
    {
     "data": {
      "text/html": [
       "<div>\n",
       "<style scoped>\n",
       "    .dataframe tbody tr th:only-of-type {\n",
       "        vertical-align: middle;\n",
       "    }\n",
       "\n",
       "    .dataframe tbody tr th {\n",
       "        vertical-align: top;\n",
       "    }\n",
       "\n",
       "    .dataframe thead th {\n",
       "        text-align: right;\n",
       "    }\n",
       "</style>\n",
       "<table border=\"1\" class=\"dataframe\">\n",
       "  <thead>\n",
       "    <tr style=\"text-align: right;\">\n",
       "      <th></th>\n",
       "      <th>technology</th>\n",
       "      <th>number of job posting</th>\n",
       "    </tr>\n",
       "  </thead>\n",
       "  <tbody>\n",
       "    <tr>\n",
       "      <th>0</th>\n",
       "      <td>java</td>\n",
       "      <td>1</td>\n",
       "    </tr>\n",
       "    <tr>\n",
       "      <th>1</th>\n",
       "      <td>C</td>\n",
       "      <td>10</td>\n",
       "    </tr>\n",
       "    <tr>\n",
       "      <th>2</th>\n",
       "      <td>C#</td>\n",
       "      <td>1</td>\n",
       "    </tr>\n",
       "    <tr>\n",
       "      <th>3</th>\n",
       "      <td>C++</td>\n",
       "      <td>1</td>\n",
       "    </tr>\n",
       "    <tr>\n",
       "      <th>4</th>\n",
       "      <td>Java</td>\n",
       "      <td>2</td>\n",
       "    </tr>\n",
       "    <tr>\n",
       "      <th>...</th>\n",
       "      <td>...</td>\n",
       "      <td>...</td>\n",
       "    </tr>\n",
       "    <tr>\n",
       "      <th>251</th>\n",
       "      <td>C#</td>\n",
       "      <td>1</td>\n",
       "    </tr>\n",
       "    <tr>\n",
       "      <th>252</th>\n",
       "      <td>PostgreSQL</td>\n",
       "      <td>1</td>\n",
       "    </tr>\n",
       "    <tr>\n",
       "      <th>253</th>\n",
       "      <td>MongoDB</td>\n",
       "      <td>1</td>\n",
       "    </tr>\n",
       "    <tr>\n",
       "      <th>254</th>\n",
       "      <td>Scala</td>\n",
       "      <td>2</td>\n",
       "    </tr>\n",
       "    <tr>\n",
       "      <th>255</th>\n",
       "      <td>JavaScript</td>\n",
       "      <td>3</td>\n",
       "    </tr>\n",
       "  </tbody>\n",
       "</table>\n",
       "<p>256 rows × 2 columns</p>\n",
       "</div>"
      ],
      "text/plain": [
       "     technology number of job posting\n",
       "0          java                     1\n",
       "1             C                    10\n",
       "2            C#                     1\n",
       "3           C++                     1\n",
       "4          Java                     2\n",
       "..          ...                   ...\n",
       "251          C#                     1\n",
       "252  PostgreSQL                     1\n",
       "253     MongoDB                     1\n",
       "254       Scala                     2\n",
       "255  JavaScript                     3\n",
       "\n",
       "[256 rows x 2 columns]"
      ]
     },
     "execution_count": 25,
     "metadata": {},
     "output_type": "execute_result"
    }
   ],
   "source": [
    "data_df"
   ]
  },
  {
   "cell_type": "code",
   "execution_count": 32,
   "id": "41a3bb96-45be-4ff0-9fc3-45f356415a40",
   "metadata": {
    "tags": []
   },
   "outputs": [
    {
     "data": {
      "text/plain": [
       "<bound method NDFrame.describe of      technology number of job posting\n",
       "0          java                     1\n",
       "1             C                    10\n",
       "2            C#                     1\n",
       "3           C++                     1\n",
       "4          Java                     2\n",
       "..          ...                   ...\n",
       "251          C#                     1\n",
       "252  PostgreSQL                     1\n",
       "253     MongoDB                     1\n",
       "254       Scala                     2\n",
       "255  JavaScript                     3\n",
       "\n",
       "[256 rows x 2 columns]>"
      ]
     },
     "execution_count": 32,
     "metadata": {},
     "output_type": "execute_result"
    }
   ],
   "source": [
    "data_df.describe"
   ]
  },
  {
   "cell_type": "code",
   "execution_count": 34,
   "id": "7e79c8f8-6171-4030-82e7-375d7a960fd4",
   "metadata": {
    "tags": []
   },
   "outputs": [
    {
     "data": {
      "text/html": [
       "<div>\n",
       "<style scoped>\n",
       "    .dataframe tbody tr th:only-of-type {\n",
       "        vertical-align: middle;\n",
       "    }\n",
       "\n",
       "    .dataframe tbody tr th {\n",
       "        vertical-align: top;\n",
       "    }\n",
       "\n",
       "    .dataframe thead th {\n",
       "        text-align: right;\n",
       "    }\n",
       "</style>\n",
       "<table border=\"1\" class=\"dataframe\">\n",
       "  <thead>\n",
       "    <tr style=\"text-align: right;\">\n",
       "      <th></th>\n",
       "      <th>technology</th>\n",
       "      <th>number of job posting</th>\n",
       "    </tr>\n",
       "  </thead>\n",
       "  <tbody>\n",
       "    <tr>\n",
       "      <th>count</th>\n",
       "      <td>256</td>\n",
       "      <td>256</td>\n",
       "    </tr>\n",
       "    <tr>\n",
       "      <th>unique</th>\n",
       "      <td>13</td>\n",
       "      <td>15</td>\n",
       "    </tr>\n",
       "    <tr>\n",
       "      <th>top</th>\n",
       "      <td>Java</td>\n",
       "      <td>1</td>\n",
       "    </tr>\n",
       "    <tr>\n",
       "      <th>freq</th>\n",
       "      <td>41</td>\n",
       "      <td>97</td>\n",
       "    </tr>\n",
       "  </tbody>\n",
       "</table>\n",
       "</div>"
      ],
      "text/plain": [
       "       technology number of job posting\n",
       "count         256                   256\n",
       "unique         13                    15\n",
       "top          Java                     1\n",
       "freq           41                    97"
      ]
     },
     "execution_count": 34,
     "metadata": {},
     "output_type": "execute_result"
    }
   ],
   "source": [
    "data_df.describe()"
   ]
  },
  {
   "cell_type": "code",
   "execution_count": null,
   "id": "e240e13e-38ff-4a4e-9525-fd273400d536",
   "metadata": {
    "tags": []
   },
   "outputs": [],
   "source": []
  },
  {
   "cell_type": "code",
   "execution_count": 26,
   "id": "4155dd3b-a35e-492e-96b2-85c1ce466c3f",
   "metadata": {
    "tags": []
   },
   "outputs": [
    {
     "ename": "NameError",
     "evalue": "name 'technology' is not defined",
     "output_type": "error",
     "traceback": [
      "\u001b[0;31m---------------------------------------------------------------------------\u001b[0m",
      "\u001b[0;31mNameError\u001b[0m                                 Traceback (most recent call last)",
      "\u001b[0;32m/tmp/ipykernel_630/1002445145.py\u001b[0m in \u001b[0;36m<module>\u001b[0;34m\u001b[0m\n\u001b[0;32m----> 1\u001b[0;31m \u001b[0mnumber_of_jobs\u001b[0m \u001b[0;34m=\u001b[0m \u001b[0mdata_df\u001b[0m\u001b[0;34m.\u001b[0m\u001b[0mgroupby\u001b[0m\u001b[0;34m(\u001b[0m\u001b[0;34m'technology'\u001b[0m\u001b[0;34m)\u001b[0m\u001b[0;34m.\u001b[0m\u001b[0msum\u001b[0m\u001b[0;34m(\u001b[0m\u001b[0;34m)\u001b[0m\u001b[0;34m.\u001b[0m\u001b[0mloc\u001b[0m\u001b[0;34m[\u001b[0m\u001b[0mtechnology\u001b[0m\u001b[0;34m,\u001b[0m \u001b[0;34m:\u001b[0m\u001b[0;34m]\u001b[0m\u001b[0;34m[\u001b[0m\u001b[0;36m0\u001b[0m\u001b[0;34m]\u001b[0m\u001b[0;34m\u001b[0m\u001b[0;34m\u001b[0m\u001b[0m\n\u001b[0m",
      "\u001b[0;31mNameError\u001b[0m: name 'technology' is not defined"
     ]
    }
   ],
   "source": [
    "number_of_jobs = data_df.groupby('technology').sum().loc[technology, :][0]"
   ]
  },
  {
   "cell_type": "code",
   "execution_count": 23,
   "id": "10eafbc7-57bb-49c0-9be3-46161354e060",
   "metadata": {
    "tags": []
   },
   "outputs": [
    {
     "ename": "NameError",
     "evalue": "name 'technology' is not defined",
     "output_type": "error",
     "traceback": [
      "\u001b[0;31m---------------------------------------------------------------------------\u001b[0m",
      "\u001b[0;31mNameError\u001b[0m                                 Traceback (most recent call last)",
      "\u001b[0;32m/tmp/ipykernel_630/2794848419.py\u001b[0m in \u001b[0;36m<module>\u001b[0;34m\u001b[0m\n\u001b[1;32m      5\u001b[0m \u001b[0;34m\u001b[0m\u001b[0m\n\u001b[1;32m      6\u001b[0m \u001b[0;31m# Now you can use groupby on the DataFrame\u001b[0m\u001b[0;34m\u001b[0m\u001b[0;34m\u001b[0m\u001b[0;34m\u001b[0m\u001b[0m\n\u001b[0;32m----> 7\u001b[0;31m \u001b[0mnumber_of_jobs\u001b[0m \u001b[0;34m=\u001b[0m \u001b[0mdata_df\u001b[0m\u001b[0;34m.\u001b[0m\u001b[0mgroupby\u001b[0m\u001b[0;34m(\u001b[0m\u001b[0;34m'technology'\u001b[0m\u001b[0;34m)\u001b[0m\u001b[0;34m.\u001b[0m\u001b[0msum\u001b[0m\u001b[0;34m(\u001b[0m\u001b[0;34m)\u001b[0m\u001b[0;34m.\u001b[0m\u001b[0mloc\u001b[0m\u001b[0;34m[\u001b[0m\u001b[0mtechnology\u001b[0m\u001b[0;34m,\u001b[0m \u001b[0;34m:\u001b[0m\u001b[0;34m]\u001b[0m\u001b[0;34m[\u001b[0m\u001b[0;36m0\u001b[0m\u001b[0;34m]\u001b[0m\u001b[0;34m\u001b[0m\u001b[0;34m\u001b[0m\u001b[0m\n\u001b[0m",
      "\u001b[0;31mNameError\u001b[0m: name 'technology' is not defined"
     ]
    }
   ],
   "source": [
    "import pandas as pd\n",
    "\n",
    "# Assuming 'data' is a dictionary, convert it to a DataFrame\n",
    "data_df = pd.DataFrame(data)\n",
    "\n",
    "# Now you can use groupby on the DataFrame\n",
    "number_of_jobs = data_df.groupby('technology').sum().loc[technology, :][0]"
   ]
  },
  {
   "cell_type": "code",
   "execution_count": null,
   "id": "1309cc1e-2396-4865-bee9-5971f407b951",
   "metadata": {},
   "outputs": [],
   "source": [
    "for astronaut in astronauts:\n",
    "    print(astronaut.get('name'))"
   ]
  },
  {
   "cell_type": "code",
   "execution_count": null,
   "id": "a5ab0cd6-32f5-4773-b113-7a9954c38725",
   "metadata": {},
   "outputs": [],
   "source": []
  },
  {
   "cell_type": "code",
   "execution_count": 18,
   "id": "1e8e1331-53b4-454b-8579-a515d43704be",
   "metadata": {
    "tags": []
   },
   "outputs": [],
   "source": [
    "response = requests.get(api_url)"
   ]
  },
  {
   "cell_type": "code",
   "execution_count": 19,
   "id": "c1c0d428-bc62-4ce0-b742-790ea5617316",
   "metadata": {
    "tags": []
   },
   "outputs": [],
   "source": [
    "if response.ok:             # if all is well() no errors, no network timeouts)\n",
    "    data = response.json()  # store the result in json format in a variable called data\n",
    "                            # the variable data is of type dictionary."
   ]
  },
  {
   "cell_type": "code",
   "execution_count": 20,
   "id": "6e83d902-4ad8-47b1-b06f-04250d014e50",
   "metadata": {
    "tags": []
   },
   "outputs": [
    {
     "name": "stdout",
     "output_type": "stream",
     "text": [
      "{'people': [{'craft': 'ISS', 'name': 'Oleg Kononenko'}, {'craft': 'ISS', 'name': 'Nikolai Chub'}, {'craft': 'ISS', 'name': 'Tracy Caldwell Dyson'}, {'craft': 'ISS', 'name': 'Matthew Dominick'}, {'craft': 'ISS', 'name': 'Michael Barratt'}, {'craft': 'ISS', 'name': 'Jeanette Epps'}, {'craft': 'ISS', 'name': 'Alexander Grebenkin'}, {'craft': 'ISS', 'name': 'Butch Wilmore'}, {'craft': 'ISS', 'name': 'Sunita Williams'}, {'craft': 'Tiangong', 'name': 'Li Guangsu'}, {'craft': 'Tiangong', 'name': 'Li Cong'}, {'craft': 'Tiangong', 'name': 'Ye Guangfu'}], 'number': 12, 'message': 'success'}\n"
     ]
    }
   ],
   "source": [
    "print(data)   # print the data just to check the output or for debugging"
   ]
  },
  {
   "cell_type": "code",
   "execution_count": 4,
   "id": "b5bdc52d-2ea2-4543-9eea-adf4ccde0586",
   "metadata": {
    "tags": []
   },
   "outputs": [],
   "source": [
    "api_url=\"http://127.0.0.1:5000/data\"\n",
    "def get_number_of_jobs_T(technology):\n",
    "    payload={\"Key Skills\": technology}\n",
    "    response=requests.get(api_url, params=payload)\n",
    "    if response.ok:\n",
    "        data=response.json()\n",
    "#         print(data)\n",
    "        number_of_jobs = len(data)    \n",
    "    \n",
    "    #your code goes here\n",
    "    return technology,number_of_jobs\n"
   ]
  },
  {
   "cell_type": "code",
   "execution_count": 30,
   "id": "01532440-aa15-4990-8d9c-79d62f9a1332",
   "metadata": {
    "tags": []
   },
   "outputs": [],
   "source": [
    "baseurl = \"https://jobs.github.com/positions.json\""
   ]
  },
  {
   "cell_type": "code",
   "execution_count": 31,
   "id": "97699a3d-6ff4-43e8-8f55-a5de76e62a63",
   "metadata": {
    "tags": []
   },
   "outputs": [],
   "source": [
    "import requests\n",
    "import json\n",
    "\n",
    "api_url=\"http://127.0.0.1:5000/data\"\n",
    "\n",
    "\n",
    "def get_number_of_jobs_T(technology):\n",
    "    payload={\"Key Skills\": technology}\n",
    "    try:\n",
    "        response = requests.get(api_url, params=payload)\n",
    "        response.raise_for_status()  # Raise an exception for bad status codes\n",
    "        data = response.json()\n",
    "        number_of_jobs = len(data)\n",
    "        return technology, number_of_jobs\n",
    "    except requests.exceptions.RequestException as e:\n",
    "        print(f\"Error connecting to API: {e}\")\n",
    "        return technology, 0"
   ]
  },
  {
   "cell_type": "code",
   "execution_count": 32,
   "id": "3bf064d2-b5b0-4803-ba9d-eb51c65d3ca5",
   "metadata": {
    "tags": []
   },
   "outputs": [
    {
     "name": "stdout",
     "output_type": "stream",
     "text": [
      "Error connecting to API: HTTPSConnectionPool(host='jobs.github.com', port=443): Max retries exceeded with url: /positions.json?Key+Skills=Python (Caused by NewConnectionError('<urllib3.connection.HTTPSConnection object at 0x7f5be7ae6c50>: Failed to establish a new connection: [Errno 111] Connection refused'))\n"
     ]
    },
    {
     "data": {
      "text/plain": [
       "('Python', 0)"
      ]
     },
     "execution_count": 32,
     "metadata": {},
     "output_type": "execute_result"
    }
   ],
   "source": [
    "get_number_of_jobs_T(\"Python\")"
   ]
  },
  {
   "cell_type": "code",
   "execution_count": null,
   "id": "9f7c6d27-0d37-4769-b35e-270831a763a6",
   "metadata": {},
   "outputs": [],
   "source": []
  },
  {
   "cell_type": "code",
   "execution_count": 35,
   "id": "6d206505-a415-4f81-80a1-0b94b1e0b7b5",
   "metadata": {
    "tags": []
   },
   "outputs": [],
   "source": [
    "api_url=\"http://127.0.0.1:5000/data\"\n",
    "\n",
    "def get_number_of_jobs_T(technology):\n",
    "    payload={\"Key Skills\": technology}\n",
    "    response=requests.get(api_url, params=payload)\n",
    "    if response.ok:\n",
    "        data=response.json()\n",
    "        print(data)\n",
    "        number_of_jobs = len(data)\n",
    "    #your code goes here\n",
    "    return technology,number_of_jobs"
   ]
  },
  {
   "cell_type": "code",
   "execution_count": 36,
   "id": "3ac5a3e1-e0cc-462d-b0bc-192823010f9b",
   "metadata": {
    "tags": []
   },
   "outputs": [
    {
     "name": "stdout",
     "output_type": "stream",
     "text": [
      "{'people': [{'craft': 'ISS', 'name': 'Oleg Kononenko'}, {'craft': 'ISS', 'name': 'Nikolai Chub'}, {'craft': 'ISS', 'name': 'Tracy Caldwell Dyson'}, {'craft': 'ISS', 'name': 'Matthew Dominick'}, {'craft': 'ISS', 'name': 'Michael Barratt'}, {'craft': 'ISS', 'name': 'Jeanette Epps'}, {'craft': 'ISS', 'name': 'Alexander Grebenkin'}, {'craft': 'ISS', 'name': 'Butch Wilmore'}, {'craft': 'ISS', 'name': 'Sunita Williams'}, {'craft': 'Tiangong', 'name': 'Li Guangsu'}, {'craft': 'Tiangong', 'name': 'Li Cong'}, {'craft': 'Tiangong', 'name': 'Ye Guangfu'}], 'number': 12, 'message': 'success'}\n"
     ]
    }
   ],
   "source": [
    "print(data)"
   ]
  },
  {
   "cell_type": "code",
   "execution_count": 35,
   "id": "5923d654-297e-448c-a6d1-5cc39fe72979",
   "metadata": {
    "tags": []
   },
   "outputs": [
    {
     "name": "stdout",
     "output_type": "stream",
     "text": [
      "Number of jobs for Python: 21\n"
     ]
    }
   ],
   "source": [
    "import requests\n",
    "import pandas as pd\n",
    "\n",
    "baseurl = \"https://cf-courses-data.s3.us.cloud-object-storage.appdomain.cloud/IBM-DA0321EN-SkillsNetwork/labs/module%201/datasets/githubposting.json\"\n",
    "response = requests.get(baseurl)\n",
    "\n",
    "if response.ok:\n",
    "    data = response.json()\n",
    "    df = pd.DataFrame(data)  # Convert JSON data to pandas DataFrame\n",
    "\n",
    "    # Count the occurrences of each technology\n",
    "    number_of_jobs_per_technology = df.groupby('technology').size()\n",
    "\n",
    "    # Get the number of jobs for a specific technology (replace 'Python' with the desired technology)\n",
    "    technology = 'Python'\n",
    "    number_of_jobs = number_of_jobs_per_technology.get(technology, 0) \n",
    "\n",
    "    print(f\"Number of jobs for {technology}: {number_of_jobs}\")\n",
    "\n",
    "else:\n",
    "    print(\"Failed to retrieve data from the API.\")"
   ]
  },
  {
   "cell_type": "code",
   "execution_count": 36,
   "id": "cd243ab8-5213-41e0-9b22-0dffa67bb057",
   "metadata": {
    "tags": []
   },
   "outputs": [
    {
     "ename": "AttributeError",
     "evalue": "'dict' object has no attribute 'groupby'",
     "output_type": "error",
     "traceback": [
      "\u001b[0;31m---------------------------------------------------------------------------\u001b[0m",
      "\u001b[0;31mAttributeError\u001b[0m                            Traceback (most recent call last)",
      "\u001b[0;32m/tmp/ipykernel_630/3454036711.py\u001b[0m in \u001b[0;36m<module>\u001b[0;34m\u001b[0m\n\u001b[0;32m----> 1\u001b[0;31m \u001b[0mnumber_of_jobs\u001b[0m \u001b[0;34m=\u001b[0m \u001b[0mdata\u001b[0m\u001b[0;34m.\u001b[0m\u001b[0mgroupby\u001b[0m\u001b[0;34m(\u001b[0m\u001b[0;34m'technology'\u001b[0m\u001b[0;34m)\u001b[0m\u001b[0;34m.\u001b[0m\u001b[0msize\u001b[0m\u001b[0;34m(\u001b[0m\u001b[0;34m)\u001b[0m\u001b[0;34m.\u001b[0m\u001b[0mloc\u001b[0m\u001b[0;34m[\u001b[0m\u001b[0mtechnology\u001b[0m\u001b[0;34m]\u001b[0m\u001b[0;34m\u001b[0m\u001b[0;34m\u001b[0m\u001b[0m\n\u001b[0m",
      "\u001b[0;31mAttributeError\u001b[0m: 'dict' object has no attribute 'groupby'"
     ]
    }
   ],
   "source": [
    "number_of_jobs = data.groupby('technology').size().loc[technology]"
   ]
  },
  {
   "cell_type": "code",
   "execution_count": null,
   "id": "a3ce4998-4b21-49a7-90b8-ed51d413851f",
   "metadata": {},
   "outputs": [],
   "source": []
  }
 ],
 "metadata": {
  "kernelspec": {
   "display_name": "Python",
   "language": "python",
   "name": "conda-env-python-py"
  },
  "language_info": {
   "codemirror_mode": {
    "name": "ipython",
    "version": 3
   },
   "file_extension": ".py",
   "mimetype": "text/x-python",
   "name": "python",
   "nbconvert_exporter": "python",
   "pygments_lexer": "ipython3",
   "version": "3.7.12"
  }
 },
 "nbformat": 4,
 "nbformat_minor": 5
}
