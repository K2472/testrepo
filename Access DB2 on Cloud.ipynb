{
 "cells": [
  {
   "cell_type": "code",
   "execution_count": 1,
   "id": "8546f9f4-a5eb-4e28-812d-d6966a746210",
   "metadata": {
    "tags": []
   },
   "outputs": [],
   "source": [
    "# Access DB2 on Cloud using Python\n",
    "# Estimated time needed: 15 minutes\n",
    "# \n",
    "# Objectives\n",
    "# After completing this lab you will be able to:\n",
    "\n",
    "# Create a table\n",
    "# Insert data into the table\n",
    "# Query data from the table\n",
    "# Retrieve the result set into a pandas dataframe\n",
    "# Close the database connection"
   ]
  },
  {
   "cell_type": "code",
   "execution_count": 2,
   "id": "028927b7-501d-42a7-8e8e-3f1e6b12df3e",
   "metadata": {
    "tags": []
   },
   "outputs": [],
   "source": [
    "# Task 1: Import the ibm_db Python library\n",
    "#\n",
    "\n",
    "# The ibm_db API provides a variety of useful Python functions for accessing and manipulating data in an IBM® data server database, including functions for connecting to a database, preparing and issuing SQL statements, fetching rows from result sets, calling stored procedures, committing and rolling back transactions, handling errors, and retrieving metadata.\n",
    "#\n",
    "# We import the ibm_db library into our Python Application\n",
    "#\n",
    "# The following required modules are pre-installed in the Skills Network Labs environment. However if you run this notebook commands in a different Jupyter environment (e.g. Watson Studio or Ananconda) you may need to install these libraries by removing the # sign before !pip in the code cell below.\n",
    "#\n",
    "\n",
    "\n"
   ]
  },
  {
   "cell_type": "code",
   "execution_count": 3,
   "id": "ebc59a51-a438-404c-9a46-efee387de47d",
   "metadata": {
    "tags": []
   },
   "outputs": [
    {
     "name": "stdout",
     "output_type": "stream",
     "text": [
      "Collecting ibm_db==3.1.0\n",
      "  Using cached ibm_db-3.1.0-cp37-cp37m-linux_x86_64.whl\n",
      "Collecting ibm_db_sa==0.3.3\n",
      "  Using cached ibm_db_sa-0.3.3-py3-none-any.whl\n",
      "Collecting sqlalchemy>=0.7.3 (from ibm_db_sa==0.3.3)\n",
      "  Using cached SQLAlchemy-2.0.32-cp37-cp37m-manylinux_2_17_x86_64.manylinux2014_x86_64.whl (3.0 MB)\n",
      "Collecting typing-extensions>=4.6.0 (from sqlalchemy>=0.7.3->ibm_db_sa==0.3.3)\n",
      "  Using cached typing_extensions-4.7.1-py3-none-any.whl (33 kB)\n",
      "Collecting greenlet!=0.4.17 (from sqlalchemy>=0.7.3->ibm_db_sa==0.3.3)\n",
      "  Using cached greenlet-3.0.3-cp37-cp37m-manylinux_2_24_x86_64.manylinux_2_28_x86_64.whl (574 kB)\n",
      "Collecting importlib-metadata (from sqlalchemy>=0.7.3->ibm_db_sa==0.3.3)\n",
      "  Using cached importlib_metadata-6.7.0-py3-none-any.whl (22 kB)\n",
      "Collecting zipp>=0.5 (from importlib-metadata->sqlalchemy>=0.7.3->ibm_db_sa==0.3.3)\n",
      "  Using cached zipp-3.15.0-py3-none-any.whl (6.8 kB)\n",
      "Installing collected packages: ibm_db, zipp, typing-extensions, greenlet, importlib-metadata, sqlalchemy, ibm_db_sa\n",
      "  Attempting uninstall: ibm_db\n",
      "    Found existing installation: ibm-db 3.1.0\n",
      "    Uninstalling ibm-db-3.1.0:\n",
      "      Successfully uninstalled ibm-db-3.1.0\n",
      "  Attempting uninstall: zipp\n",
      "    Found existing installation: zipp 3.15.0\n",
      "    Uninstalling zipp-3.15.0:\n",
      "      Successfully uninstalled zipp-3.15.0\n",
      "  Attempting uninstall: typing-extensions\n",
      "    Found existing installation: typing_extensions 4.7.1\n",
      "    Uninstalling typing_extensions-4.7.1:\n",
      "      Successfully uninstalled typing_extensions-4.7.1\n",
      "  Attempting uninstall: greenlet\n",
      "    Found existing installation: greenlet 3.0.3\n",
      "    Uninstalling greenlet-3.0.3:\n",
      "      Successfully uninstalled greenlet-3.0.3\n",
      "  Attempting uninstall: importlib-metadata\n",
      "    Found existing installation: importlib-metadata 6.7.0\n",
      "    Uninstalling importlib-metadata-6.7.0:\n",
      "      Successfully uninstalled importlib-metadata-6.7.0\n",
      "  Attempting uninstall: sqlalchemy\n",
      "    Found existing installation: SQLAlchemy 1.3.24\n",
      "    Uninstalling SQLAlchemy-1.3.24:\n",
      "      Successfully uninstalled SQLAlchemy-1.3.24\n",
      "  Attempting uninstall: ibm_db_sa\n",
      "    Found existing installation: ibm-db-sa 0.3.3\n",
      "    Uninstalling ibm-db-sa-0.3.3:\n",
      "      Successfully uninstalled ibm-db-sa-0.3.3\n",
      "\u001b[31mERROR: pip's dependency resolver does not currently take into account all the packages that are installed. This behaviour is the source of the following dependency conflicts.\n",
      "dash 2.9.3 requires dash-core-components==2.0.0, which is not installed.\n",
      "dash 2.9.3 requires dash-html-components==2.0.0, which is not installed.\n",
      "dash 2.9.3 requires dash-table==5.0.0, which is not installed.\u001b[0m\u001b[31m\n",
      "\u001b[0mSuccessfully installed greenlet-3.0.3 ibm_db-3.1.0 ibm_db_sa-0.3.3 importlib-metadata-6.7.0 sqlalchemy-2.0.32 typing-extensions-4.7.1 zipp-3.15.0\n",
      "Found existing installation: SQLAlchemy 2.0.32\n",
      "Uninstalling SQLAlchemy-2.0.32:\n",
      "  Successfully uninstalled SQLAlchemy-2.0.32\n",
      "Collecting sqlalchemy==1.3.24\n",
      "  Using cached SQLAlchemy-1.3.24-cp37-cp37m-manylinux2010_x86_64.whl (1.3 MB)\n",
      "Installing collected packages: sqlalchemy\n",
      "Successfully installed sqlalchemy-1.3.24\n",
      "Requirement already satisfied: ipython-sql in /home/jupyterlab/conda/envs/python/lib/python3.7/site-packages (0.3.9)\n",
      "Requirement already satisfied: prettytable in /home/jupyterlab/conda/envs/python/lib/python3.7/site-packages (from ipython-sql) (3.7.0)\n",
      "Requirement already satisfied: ipython>=1.0 in /home/jupyterlab/conda/envs/python/lib/python3.7/site-packages (from ipython-sql) (7.33.0)\n",
      "Requirement already satisfied: sqlalchemy>=0.6.7 in /home/jupyterlab/conda/envs/python/lib/python3.7/site-packages (from ipython-sql) (1.3.24)\n",
      "Requirement already satisfied: sqlparse in /home/jupyterlab/conda/envs/python/lib/python3.7/site-packages (from ipython-sql) (0.4.4)\n",
      "Requirement already satisfied: six in /home/jupyterlab/conda/envs/python/lib/python3.7/site-packages (from ipython-sql) (1.16.0)\n",
      "Requirement already satisfied: ipython-genutils>=0.1.0 in /home/jupyterlab/conda/envs/python/lib/python3.7/site-packages (from ipython-sql) (0.2.0)\n",
      "Requirement already satisfied: setuptools>=18.5 in /home/jupyterlab/conda/envs/python/lib/python3.7/site-packages (from ipython>=1.0->ipython-sql) (67.7.2)\n",
      "Requirement already satisfied: jedi>=0.16 in /home/jupyterlab/conda/envs/python/lib/python3.7/site-packages (from ipython>=1.0->ipython-sql) (0.18.2)\n",
      "Requirement already satisfied: decorator in /home/jupyterlab/conda/envs/python/lib/python3.7/site-packages (from ipython>=1.0->ipython-sql) (5.1.1)\n",
      "Requirement already satisfied: pickleshare in /home/jupyterlab/conda/envs/python/lib/python3.7/site-packages (from ipython>=1.0->ipython-sql) (0.7.5)\n",
      "Requirement already satisfied: traitlets>=4.2 in /home/jupyterlab/conda/envs/python/lib/python3.7/site-packages (from ipython>=1.0->ipython-sql) (5.9.0)\n",
      "Requirement already satisfied: prompt-toolkit!=3.0.0,!=3.0.1,<3.1.0,>=2.0.0 in /home/jupyterlab/conda/envs/python/lib/python3.7/site-packages (from ipython>=1.0->ipython-sql) (3.0.38)\n",
      "Requirement already satisfied: pygments in /home/jupyterlab/conda/envs/python/lib/python3.7/site-packages (from ipython>=1.0->ipython-sql) (2.15.1)\n",
      "Requirement already satisfied: backcall in /home/jupyterlab/conda/envs/python/lib/python3.7/site-packages (from ipython>=1.0->ipython-sql) (0.2.0)\n",
      "Requirement already satisfied: matplotlib-inline in /home/jupyterlab/conda/envs/python/lib/python3.7/site-packages (from ipython>=1.0->ipython-sql) (0.1.6)\n",
      "Requirement already satisfied: pexpect>4.3 in /home/jupyterlab/conda/envs/python/lib/python3.7/site-packages (from ipython>=1.0->ipython-sql) (4.8.0)\n",
      "Requirement already satisfied: importlib-metadata in /home/jupyterlab/conda/envs/python/lib/python3.7/site-packages (from prettytable->ipython-sql) (6.7.0)\n",
      "Requirement already satisfied: wcwidth in /home/jupyterlab/conda/envs/python/lib/python3.7/site-packages (from prettytable->ipython-sql) (0.2.6)\n",
      "Requirement already satisfied: parso<0.9.0,>=0.8.0 in /home/jupyterlab/conda/envs/python/lib/python3.7/site-packages (from jedi>=0.16->ipython>=1.0->ipython-sql) (0.8.3)\n",
      "Requirement already satisfied: ptyprocess>=0.5 in /home/jupyterlab/conda/envs/python/lib/python3.7/site-packages (from pexpect>4.3->ipython>=1.0->ipython-sql) (0.7.0)\n",
      "Requirement already satisfied: zipp>=0.5 in /home/jupyterlab/conda/envs/python/lib/python3.7/site-packages (from importlib-metadata->prettytable->ipython-sql) (3.15.0)\n",
      "Requirement already satisfied: typing-extensions>=3.6.4 in /home/jupyterlab/conda/envs/python/lib/python3.7/site-packages (from importlib-metadata->prettytable->ipython-sql) (4.7.1)\n"
     ]
    }
   ],
   "source": [
    "# These libraries are pre-installed in SN Labs. If running in another environment please uncomment lines below to install them:\n",
    "!pip install --force-reinstall ibm_db==3.1.0 ibm_db_sa==0.3.3\n",
    "# Ensure we don't load_ext with sqlalchemy>=1.4 (incompadible)\n",
    "!pip uninstall sqlalchemy==1.4 -y && pip install sqlalchemy==1.3.24\n",
    "!pip install ipython-sql"
   ]
  },
  {
   "cell_type": "code",
   "execution_count": 4,
   "id": "2aa9bc1d-2ace-42b5-97a4-5af9c196a232",
   "metadata": {
    "tags": []
   },
   "outputs": [],
   "source": [
    "import ibm_db"
   ]
  },
  {
   "cell_type": "code",
   "execution_count": 5,
   "id": "44770bb6-a236-4d18-8923-9b0b69373226",
   "metadata": {
    "tags": []
   },
   "outputs": [],
   "source": [
    "# Task 2: Identify the database connection credentials\n",
    "#\n",
    "# Connecting to dashDB or DB2 database requires the following information:\n",
    "#\n",
    "# Driver Name\n",
    "# Database name\n",
    "# Host DNS name or IP address\n",
    "# Host port\n",
    "# Connection protocol\n",
    "# User ID\n",
    "# User Password\n",
    "# Notice: To obtain credentials please refer to the instructions given in the first Lab of this course\n",
    "# \n",
    "# Now enter your database credentials below\n",
    "#\n",
    "# Replace the placeholder values in angular brackets <> below with your actual database credentials\n",
    "#\n",
    "# e.g. replace \"database\" with \"BLUDB\""
   ]
  },
  {
   "cell_type": "code",
   "execution_count": 6,
   "id": "04087f80-b1f7-4fdd-a564-c43d4169e35c",
   "metadata": {
    "tags": []
   },
   "outputs": [],
   "source": [
    "#Replace the placeholder values with the actuals for your Db2 Service Credentials\n",
    "dsn_driver = \"{IBM DB2 ODBC DRIVER}\"\n",
    "dsn_database = \"database\"            # e.g. \"BLUDB\"\n",
    "dsn_hostname = \"hostname\"            # e.g.: \"dashdb-txn-sbox-yp-dal09-04.services.dal.bluemix.net\"\n",
    "dsn_port     = \"port\"                # e.g. \"50000\" \n",
    "dsn_protocol = \"protocol\"            # i.e. \"TCPIP\"\n",
    "dsn_uid      = \"username\"            # e.g. \"abc12345\"\n",
    "dsn_pwd      = \"password\"            # e.g. \"7dBZ3wWt9XN6$o0J\"\n",
    "dsn_security = \"SSL\"                 #i.e. \"SSL\""
   ]
  },
  {
   "cell_type": "code",
   "execution_count": 7,
   "id": "e746b9f9-ebba-48ee-9fd0-886cd5359b1c",
   "metadata": {
    "tags": []
   },
   "outputs": [],
   "source": [
    "dsn_driver = \"{IBM DB2 ODBC DRIVER}\"\n",
    "dsn_database = \"BLUDB\"\n",
    "dsn_hostname = \"dashdb-txn-sbox-yp-dal09-04.services.dal.bluemix.net\"\n",
    "dsn_port     = \"50000\" \n",
    "dsn_protocol = \"TCPIP\"\n",
    "dsn_uid      = \"abc12345\"\n",
    "dsn_pwd      = \"7dBZ3wWt9XN6$o0J\"\n",
    "dsn_security = \"SSL\""
   ]
  },
  {
   "cell_type": "code",
   "execution_count": 8,
   "id": "1023487d-efac-4edf-9a8f-7b384444a43d",
   "metadata": {
    "tags": []
   },
   "outputs": [],
   "source": [
    "# Task 3: Create the database connection\n",
    "# Ibm_db API uses the IBM Data Server Driver for ODBC and CLI APIs to connect to IBM DB2 and Informix.\n",
    "#\n",
    "# Create the database connection"
   ]
  },
  {
   "cell_type": "code",
   "execution_count": 9,
   "id": "555163ee-c0be-460c-8717-326b511d8fcf",
   "metadata": {
    "tags": []
   },
   "outputs": [
    {
     "name": "stdout",
     "output_type": "stream",
     "text": [
      "Unable to connect:  [IBM][CLI Driver] SQL30081N  A communication error has been detected. Communication protocol being used: \"TCP/IP\".  Communication API being used: \"SOCKETS\".  Location where the error was detected: \"169.53.15.110\".  Communication function detecting the error: \"connect\".  Protocol specific error code(s): \"110\", \"*\", \"*\".  SQLSTATE=08001 SQLCODE=-30081\n"
     ]
    }
   ],
   "source": [
    "#Create database connection\n",
    "#DO NOT MODIFY THIS CELL. Just RUN it with Shift + Enter\n",
    "dsn = (\n",
    "    \"DRIVER={0};\"\n",
    "    \"DATABASE={1};\"\n",
    "    \"HOSTNAME={2};\"\n",
    "    \"PORT={3};\"\n",
    "    \"PROTOCOL={4};\"\n",
    "    \"UID={5};\"\n",
    "    \"PWD={6};\"\n",
    "    \"SECURITY={7};\").format(dsn_driver, dsn_database, dsn_hostname, dsn_port, dsn_protocol, dsn_uid, dsn_pwd,dsn_security)\n",
    "\n",
    "try:\n",
    "    conn = ibm_db.connect(dsn, \"\", \"\")\n",
    "    print (\"Connected to database: \", dsn_database, \"as user: \", dsn_uid, \"on host: \", dsn_hostname)\n",
    "\n",
    "except:\n",
    "    print (\"Unable to connect: \", ibm_db.conn_errormsg() )\n"
   ]
  },
  {
   "cell_type": "code",
   "execution_count": 10,
   "id": "573406ff-16ee-4499-a61a-6d156c9fcd67",
   "metadata": {
    "tags": []
   },
   "outputs": [],
   "source": [
    "# Task 4: Create a table in the database\n",
    "# In this step we will create a table in the database with following details:\n",
    "#\n"
   ]
  },
  {
   "cell_type": "code",
   "execution_count": 11,
   "id": "0ce78b4a-0b89-4ad6-8af3-e0a189c68d34",
   "metadata": {
    "tags": []
   },
   "outputs": [
    {
     "ename": "NameError",
     "evalue": "name 'conn' is not defined",
     "output_type": "error",
     "traceback": [
      "\u001b[0;31m---------------------------------------------------------------------------\u001b[0m",
      "\u001b[0;31mNameError\u001b[0m                                 Traceback (most recent call last)",
      "\u001b[0;32m/tmp/ipykernel_2629/595635871.py\u001b[0m in \u001b[0;36m<module>\u001b[0;34m\u001b[0m\n\u001b[1;32m      3\u001b[0m \u001b[0;34m\u001b[0m\u001b[0m\n\u001b[1;32m      4\u001b[0m \u001b[0;31m#Now execute the drop statment\u001b[0m\u001b[0;34m\u001b[0m\u001b[0;34m\u001b[0m\u001b[0;34m\u001b[0m\u001b[0m\n\u001b[0;32m----> 5\u001b[0;31m \u001b[0mdropStmt\u001b[0m \u001b[0;34m=\u001b[0m \u001b[0mibm_db\u001b[0m\u001b[0;34m.\u001b[0m\u001b[0mexec_immediate\u001b[0m\u001b[0;34m(\u001b[0m\u001b[0mconn\u001b[0m\u001b[0;34m,\u001b[0m \u001b[0mdropQuery\u001b[0m\u001b[0;34m)\u001b[0m\u001b[0;34m\u001b[0m\u001b[0;34m\u001b[0m\u001b[0m\n\u001b[0m",
      "\u001b[0;31mNameError\u001b[0m: name 'conn' is not defined"
     ]
    }
   ],
   "source": [
    "#Lets first drop the table INSTRUCTOR in case it exists from a previous attempt\n",
    "dropQuery = \"drop table INSTRUCTOR\"\n",
    "\n",
    "#Now execute the drop statment\n",
    "dropStmt = ibm_db.exec_immediate(conn, dropQuery)"
   ]
  },
  {
   "cell_type": "code",
   "execution_count": null,
   "id": "a481293c-b253-4f39-ba28-ecaf55d82f0e",
   "metadata": {},
   "outputs": [],
   "source": []
  },
  {
   "cell_type": "code",
   "execution_count": null,
   "id": "5aecef45-3795-4872-a402-7361f7254d1b",
   "metadata": {
    "tags": []
   },
   "outputs": [],
   "source": [
    "#Construct the Create Table DDL statement - replace the ... with rest of the statement\n",
    "createQuery = \"create table INSTRUCTOR(id INTEGER PRIMARY KEY NOT NULL, fname ...)\"\n",
    "\n",
    "#Now fill in the name of the method and execute the statement\n",
    "createStmt = ibm_db.replace_with_name_of_execution_method(conn, createQuery)"
   ]
  },
  {
   "cell_type": "code",
   "execution_count": null,
   "id": "0d7ce0b6-624b-49f7-a549-e8fbafbdfcc6",
   "metadata": {
    "tags": []
   },
   "outputs": [],
   "source": [
    "createQuery = \"create table INSTRUCTOR(ID INTEGER PRIMARY KEY NOT NULL, FNAME VARCHAR(20), LNAME VARCHAR(20), CITY VARCHAR(20), CCODE CHAR(2))\"\n",
    "\n",
    "createStmt = ibm_db.exec_immediate(conn,createQuery)"
   ]
  },
  {
   "cell_type": "code",
   "execution_count": null,
   "id": "d7cc9d1e-8a67-48fd-8fea-01777af3d373",
   "metadata": {
    "tags": []
   },
   "outputs": [],
   "source": [
    "# Task 5: Insert data into the table\n",
    "# In this step we will insert some rows of data into the table.\n",
    "#\n",
    "# The INSTRUCTOR table we created in the previous step contains 3 rows of data:\n",
    "#"
   ]
  },
  {
   "cell_type": "code",
   "execution_count": null,
   "id": "6d52879b-ad3a-4160-98e9-418f502d3cfa",
   "metadata": {
    "tags": []
   },
   "outputs": [],
   "source": [
    "#Construct the query - replace ... with the insert statement\n",
    "# insertQuery = \"...\"\n",
    "\n",
    "#execute the insert statement\n",
    "# insertStmt = ibm_db.exec_immediate(conn, insertQuery)"
   ]
  },
  {
   "cell_type": "code",
   "execution_count": null,
   "id": "e5e2bd8f-3fd8-4c05-9944-f78446714f6d",
   "metadata": {
    "tags": []
   },
   "outputs": [],
   "source": [
    "insertQuery = \"insert into INSTRUCTOR values (1, 'Rav', 'Ahuja', 'TORONTO', 'CA')\"\n",
    "\n",
    "insertStmt = ibm_db.exec_immediate(conn, insertQuery)"
   ]
  },
  {
   "cell_type": "code",
   "execution_count": null,
   "id": "55331ae3-b501-4f5d-862c-3421b75d73dc",
   "metadata": {
    "tags": []
   },
   "outputs": [],
   "source": [
    "#replace ... with the insert statement that inerts the remaining two rows of data\n",
    "# insertQuery2 = \"...\"\n",
    "\n",
    "#execute the statement\n",
    "# insertStmt2 = ibm_db.exec_immediate(conn, insertQuery2)"
   ]
  },
  {
   "cell_type": "code",
   "execution_count": null,
   "id": "909737fc-c2b4-4307-95d4-6b39ec7a03b1",
   "metadata": {
    "tags": []
   },
   "outputs": [],
   "source": [
    "insertQuery2 = \"insert into INSTRUCTOR values (2, 'Raul', 'Chong', 'Markham', 'CA'), (3, 'Hima', 'Vasudevan', 'Chicago', 'US')\"\n",
    "\n",
    "insertStmt2 = ibm_db.exec_immediate(conn, insertQuery2)"
   ]
  },
  {
   "cell_type": "code",
   "execution_count": null,
   "id": "182e5d14-2613-4c3d-b11d-a2d5a973c12f",
   "metadata": {},
   "outputs": [],
   "source": [
    "# Task 6: Query data in the table\n",
    "# In this step we will retrieve data we inserted into the INSTRUCTOR table."
   ]
  },
  {
   "cell_type": "code",
   "execution_count": null,
   "id": "f7e34282-65f2-4b52-acfd-40339d402c3c",
   "metadata": {
    "tags": []
   },
   "outputs": [],
   "source": [
    "#Construct the query that retrieves all rows from the INSTRUCTOR table\n",
    "selectQuery = \"select * from INSTRUCTOR\"\n",
    "\n",
    "#Execute the statement\n",
    "# selectStmt = ibm_db.exec_immediate(conn, selectQuery)\n",
    "\n",
    "#Fetch the Dictionary (for the first row only) - replace ... with your code\n",
    "# ..."
   ]
  },
  {
   "cell_type": "code",
   "execution_count": null,
   "id": "8ef0f336-3d75-41b3-b0dd-16c0a43c3d87",
   "metadata": {
    "tags": []
   },
   "outputs": [],
   "source": [
    "#Construct the query that retrieves all rows from the INSTRUCTOR table\n",
    "selectQuery = \"select * from INSTRUCTOR\"\n",
    "\n",
    "#Execute the statement\n",
    "selectStmt = ibm_db.exec_immediate(conn, selectQuery)\n",
    "\n",
    "#Fetch the Dictionary (for the first row only)\n",
    "ibm_db.fetch_both(selectStmt)"
   ]
  },
  {
   "cell_type": "code",
   "execution_count": null,
   "id": "a4623b4d-e0e2-46d1-9c6c-96f36dd43400",
   "metadata": {
    "tags": []
   },
   "outputs": [],
   "source": [
    "#Fetch the rest of the rows and print the ID and FNAME for those rows\n",
    "while ibm_db.fetch_row(selectStmt) != False:\n",
    "   print (\" ID:\",  ibm_db.result(selectStmt, 0), \" FNAME:\",  ibm_db.result(selectStmt, \"FNAME\"))"
   ]
  },
  {
   "cell_type": "code",
   "execution_count": null,
   "id": "508f61b8-5808-45f3-ab65-5d596f8f5546",
   "metadata": {
    "tags": []
   },
   "outputs": [],
   "source": [
    "#Fetch the rest of the rows and print the ID and FNAME for those rows\n",
    "while ibm_db.fetch_row(selectStmt) != False:\n",
    "    print (\" ID:\",  ibm_db.result(selectStmt, 0), \" FNAME:\",  ibm_db.result(selectStmt, \"FNAME\"))"
   ]
  },
  {
   "cell_type": "code",
   "execution_count": null,
   "id": "1478f322-78eb-4087-8aaa-4fcfd31216cb",
   "metadata": {
    "tags": []
   },
   "outputs": [],
   "source": [
    "updateQuery = \"update INSTRUCTOR set CITY='MOOSETOWN' where FNAME='Rav'\"\n",
    "updateStmt = ibm_db.exec_immediate(conn, updateQuery)"
   ]
  },
  {
   "cell_type": "code",
   "execution_count": null,
   "id": "aebeabf1-ffd2-4501-a047-98b3539854bd",
   "metadata": {
    "tags": []
   },
   "outputs": [],
   "source": [
    "# Task 7: Retrieve data into Pandas\n",
    "# In this step we will retrieve the contents of the INSTRUCTOR table into a Pandas dataframe"
   ]
  },
  {
   "cell_type": "code",
   "execution_count": null,
   "id": "58186525-dccd-438b-a345-ae31232dc515",
   "metadata": {
    "tags": []
   },
   "outputs": [],
   "source": [
    "import pandas\n",
    "import ibm_db_dbi"
   ]
  },
  {
   "cell_type": "code",
   "execution_count": null,
   "id": "cea77672-3190-43ec-861e-f8f3c1cc3f0b",
   "metadata": {
    "tags": []
   },
   "outputs": [],
   "source": [
    "#connection for pandas\n",
    "pconn = ibm_db_dbi.Connection(conn)"
   ]
  },
  {
   "cell_type": "code",
   "execution_count": null,
   "id": "d7964162-800b-4c97-9e55-e31c14c9e044",
   "metadata": {
    "tags": []
   },
   "outputs": [],
   "source": [
    "#query statement to retrieve all rows in INSTRUCTOR table\n",
    "selectQuery = \"select * from INSTRUCTOR\"\n",
    "\n",
    "#retrieve the query results into a pandas dataframe\n",
    "pdf = pandas.read_sql(selectQuery, pconn)\n",
    "\n",
    "#print just the LNAME for first row in the pandas data frame\n",
    "pdf.LNAME[0]"
   ]
  },
  {
   "cell_type": "code",
   "execution_count": null,
   "id": "1a71b8b6-1dde-4414-995e-7454b784702b",
   "metadata": {
    "tags": []
   },
   "outputs": [],
   "source": [
    "#print the entire data frame\n",
    "pdf"
   ]
  },
  {
   "cell_type": "code",
   "execution_count": null,
   "id": "0b281e5a-f79e-480f-a7f6-b76f08bccea5",
   "metadata": {},
   "outputs": [],
   "source": [
    "# Once the data is in a Pandas dataframe, you can do the typical pandas operations on it.\n",
    "#\n",
    "# For example you can use the shape method to see how many rows and columns are in the dataframe\n",
    "#"
   ]
  },
  {
   "cell_type": "code",
   "execution_count": null,
   "id": "1a570a9e-3f4a-4abb-9ed2-3920a6e9440b",
   "metadata": {
    "tags": []
   },
   "outputs": [],
   "source": [
    "pdf.shape"
   ]
  },
  {
   "cell_type": "code",
   "execution_count": null,
   "id": "9940430f-1ada-4950-8d6c-95ad2aa03e96",
   "metadata": {},
   "outputs": [],
   "source": [
    "# Task 8: Close the Connection\n",
    "# We free all resources by closing the connection. Remember that it is always important to close connections so that we can avoid unused connections taking up resources."
   ]
  },
  {
   "cell_type": "code",
   "execution_count": null,
   "id": "da932949-9898-4398-ad48-731fe81e6d2a",
   "metadata": {
    "tags": []
   },
   "outputs": [],
   "source": [
    "ibm_db.close(conn)"
   ]
  }
 ],
 "metadata": {
  "kernelspec": {
   "display_name": "Python",
   "language": "python",
   "name": "conda-env-python-py"
  },
  "language_info": {
   "codemirror_mode": {
    "name": "ipython",
    "version": 3
   },
   "file_extension": ".py",
   "mimetype": "text/x-python",
   "name": "python",
   "nbconvert_exporter": "python",
   "pygments_lexer": "ipython3",
   "version": "3.7.12"
  }
 },
 "nbformat": 4,
 "nbformat_minor": 5
}
